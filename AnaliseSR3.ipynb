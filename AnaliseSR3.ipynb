{
  "nbformat": 4,
  "nbformat_minor": 0,
  "metadata": {
    "colab": {
      "name": "AnaliseSR2.ipynb",
      "provenance": [],
      "collapsed_sections": [
        "URjcSUNuOQcf",
        "jX5Qh8DlDOhA"
      ]
    },
    "kernelspec": {
      "display_name": "Python 3",
      "name": "python3"
    },
    "language_info": {
      "name": "python"
    }
  },
  "cells": [
    {
      "cell_type": "code",
      "metadata": {
        "colab": {
          "base_uri": "https://localhost:8080/"
        },
        "id": "W9uqAmUQJuVa",
        "outputId": "7a3bfa7e-1a5e-4c94-d5f3-0a8660dffb1a"
      },
      "source": [
        "import pandas as pd\n",
        "import matplotlib.pyplot as plt\n",
        "import numpy as np\n",
        "import pandas as pd\n",
        "import pickle\n",
        "import random\n",
        "import seaborn as sns\n",
        "from scipy import stats\n",
        "from sklearn.preprocessing import LabelEncoder, OneHotEncoder\n",
        "from yellowbrick.cluster import SilhouetteVisualizer, InterclusterDistance\n",
        "from sklearn.model_selection import train_test_split\n",
        "from sklearn.metrics import silhouette_score\n",
        "from sklearn.cluster import KMeans\n",
        "from sklearn.decomposition import PCA\n",
        "from sklearn.preprocessing import StandardScaler, MinMaxScaler\n",
        "from sklearn.base import TransformerMixin, BaseEstimator\n",
        "from google.colab import drive\n",
        "import warnings\n",
        "warnings.filterwarnings('ignore')"
      ],
      "execution_count": null,
      "outputs": [
        {
          "output_type": "stream",
          "text": [
            "/usr/local/lib/python3.7/dist-packages/sklearn/utils/deprecation.py:144: FutureWarning: The sklearn.metrics.classification module is  deprecated in version 0.22 and will be removed in version 0.24. The corresponding classes / functions should instead be imported from sklearn.metrics. Anything that cannot be imported from sklearn.metrics is now part of the private API.\n",
            "  warnings.warn(message, FutureWarning)\n"
          ],
          "name": "stderr"
        }
      ]
    },
    {
      "cell_type": "code",
      "metadata": {
        "colab": {
          "base_uri": "https://localhost:8080/",
          "height": 663
        },
        "id": "ohm0FF22Pwmc",
        "outputId": "0048cb8e-6b09-40f9-8546-ff899ec3cb8e"
      },
      "source": [
        "df = pd.read_csv('Consumidores.csv')\n",
        "df.head()"
      ],
      "execution_count": null,
      "outputs": [
        {
          "output_type": "execute_result",
          "data": {
            "text/html": [
              "<div>\n",
              "<style scoped>\n",
              "    .dataframe tbody tr th:only-of-type {\n",
              "        vertical-align: middle;\n",
              "    }\n",
              "\n",
              "    .dataframe tbody tr th {\n",
              "        vertical-align: top;\n",
              "    }\n",
              "\n",
              "    .dataframe thead th {\n",
              "        text-align: right;\n",
              "    }\n",
              "</style>\n",
              "<table border=\"1\" class=\"dataframe\">\n",
              "  <thead>\n",
              "    <tr style=\"text-align: right;\">\n",
              "      <th></th>\n",
              "      <th>Timestamp</th>\n",
              "      <th>Qual sua faixa etária?</th>\n",
              "      <th>Qual seu gênero?</th>\n",
              "      <th>Você se considera um consumidor de Cachaça?</th>\n",
              "      <th>Você costuma consumir Cachaças Artesanais?</th>\n",
              "      <th>Antes da pandemia, costumava comprar Cachaça online ou de maneira física?</th>\n",
              "      <th>Atualmente, na pandemia, costuma comprar Cachaça online ou de maneira física?</th>\n",
              "      <th>Quais destas bebidas você estaria disposto a comprar?</th>\n",
              "      <th>Por qual lugar você ficaria sabendo onde comprar?</th>\n",
              "      <th>Quais dessas Cachaças da Sanhaçu você teria interesse em comprar?</th>\n",
              "    </tr>\n",
              "  </thead>\n",
              "  <tbody>\n",
              "    <tr>\n",
              "      <th>0</th>\n",
              "      <td>2021/05/10 10:09:13 PM GMT-3</td>\n",
              "      <td>18-28</td>\n",
              "      <td>Masculino</td>\n",
              "      <td>Não</td>\n",
              "      <td>Não</td>\n",
              "      <td>NaN</td>\n",
              "      <td>NaN</td>\n",
              "      <td>Cachaça;Gim;Cerveja;Whisky;Vodka;Rum;Tequila</td>\n",
              "      <td>Propagandas na internet;Redes Socias(Twitter, ...</td>\n",
              "      <td>Freijó - Freijó é uma madeira da Amazônia que ...</td>\n",
              "    </tr>\n",
              "    <tr>\n",
              "      <th>1</th>\n",
              "      <td>2021/05/10 10:10:07 PM GMT-3</td>\n",
              "      <td>18-28</td>\n",
              "      <td>Masculino</td>\n",
              "      <td>Não</td>\n",
              "      <td>Não</td>\n",
              "      <td>Físico</td>\n",
              "      <td>Físico</td>\n",
              "      <td>Cachaça;Gim;Cerveja;Whisky;Vodka;Champanhe</td>\n",
              "      <td>Propagandas na internet</td>\n",
              "      <td>Carvalho - O carvalho é uma madeira importada....</td>\n",
              "    </tr>\n",
              "    <tr>\n",
              "      <th>2</th>\n",
              "      <td>2021/05/10 10:11:59 PM GMT-3</td>\n",
              "      <td>18-28</td>\n",
              "      <td>Masculino</td>\n",
              "      <td>Não</td>\n",
              "      <td>Não</td>\n",
              "      <td>NaN</td>\n",
              "      <td>NaN</td>\n",
              "      <td>NaN</td>\n",
              "      <td>NaN</td>\n",
              "      <td>NaN</td>\n",
              "    </tr>\n",
              "    <tr>\n",
              "      <th>3</th>\n",
              "      <td>2021/05/10 10:12:23 PM GMT-3</td>\n",
              "      <td>28-38</td>\n",
              "      <td>Masculino</td>\n",
              "      <td>Sim</td>\n",
              "      <td>Não</td>\n",
              "      <td>Físico</td>\n",
              "      <td>Físico</td>\n",
              "      <td>Cachaça;Gim;Cerveja;Whisky;Vodka;Rum;Champanhe...</td>\n",
              "      <td>Redes Socias(Twitter, Instagram)</td>\n",
              "      <td>Umburana - Madeira encontrada em várias regiõe...</td>\n",
              "    </tr>\n",
              "    <tr>\n",
              "      <th>4</th>\n",
              "      <td>2021/05/10 10:12:47 PM GMT-3</td>\n",
              "      <td>48+</td>\n",
              "      <td>Masculino</td>\n",
              "      <td>Sim</td>\n",
              "      <td>Sim</td>\n",
              "      <td>Físico</td>\n",
              "      <td>Físico</td>\n",
              "      <td>Cachaça;Vodka</td>\n",
              "      <td>TV</td>\n",
              "      <td>Origem - A Sanhaçu ORIGEM, como diz o nome, é ...</td>\n",
              "    </tr>\n",
              "  </tbody>\n",
              "</table>\n",
              "</div>"
            ],
            "text/plain": [
              "                      Timestamp  ... Quais dessas Cachaças da Sanhaçu você teria interesse em comprar?\n",
              "0  2021/05/10 10:09:13 PM GMT-3  ...  Freijó - Freijó é uma madeira da Amazônia que ...               \n",
              "1  2021/05/10 10:10:07 PM GMT-3  ...  Carvalho - O carvalho é uma madeira importada....               \n",
              "2  2021/05/10 10:11:59 PM GMT-3  ...                                                NaN               \n",
              "3  2021/05/10 10:12:23 PM GMT-3  ...  Umburana - Madeira encontrada em várias regiõe...               \n",
              "4  2021/05/10 10:12:47 PM GMT-3  ...  Origem - A Sanhaçu ORIGEM, como diz o nome, é ...               \n",
              "\n",
              "[5 rows x 10 columns]"
            ]
          },
          "metadata": {
            "tags": []
          },
          "execution_count": 2
        }
      ]
    },
    {
      "cell_type": "markdown",
      "metadata": {
        "id": "URjcSUNuOQcf"
      },
      "source": [
        "#Tratamento de dados\n",
        "Tendo em vista que retiramos dados de um google forms, é possivel que alguns dados estejam nulos(não preenchidos). Por esse motivos optamos por substituir esses valores por 0, pois isso indica que o usuário não realizou o evento o qual esvamos perguntando.\n",
        "\n",
        "Ex:  No campo de \"Quais destas bebidas você estaria disposto a comprar?\" existem valores nulos que signica que o usuário não estaria disposto a adquirir nenhuma das opções dadas, nesse caso 0 representaria o grupo que não está disposto a adquirir nenhuma bebida.\n",
        "\n",
        "Além disso, decidimos retirar a coluna de timestamp até o momento, pois atualmente ela apenas como um \"user_id\".\n",
        "\n",
        "Para transformação dos dados, utilizamos um LabelEncoder() e normalizamos utilizando StandardScaler(). Para dados Categóricos normalmente se utiliza o OneHotEncoder(), porém como o formato dos dados fornecidos pelo forms tem uma particularidade, decidimos seguir com nossa própria implementação de um Transformer.\n",
        "\n",
        "O principal motivo dessa escolha é que o OneHotEncoder iria criar uma coluna para cada categoria, porem tem categorias que contém mais de uma. Como por exemplo:\n",
        "\n",
        "`Cachaça;Gim;Cerveja;Whisky;Vodka;Rum;Tequila` -> nesse caso o OneHotEncoder iria criar uma categoria exclusivamente para essa combinação e com a nossa implementação utilizamos apenas uma coluna para cada categoria(Cerveja, Tequila, Rum, ...) e preenchemos de forma binária. Assim reduzindo a dimensionalidade e ainda continua tratando as categorias de forma isolada."
      ]
    },
    {
      "cell_type": "code",
      "metadata": {
        "colab": {
          "base_uri": "https://localhost:8080/"
        },
        "id": "DuV7tqxiR-2D",
        "outputId": "88272db3-55ef-4ab8-bd2a-a7d2a81f69d1"
      },
      "source": [
        "columns = ['user_id','Faixa_etaria', 'Genero', 'Consumidor_de_cachaca', 'Consumir_cachaca_artesanal',\n",
        "              'Compras_antes_pandemia', 'Compras_durante_pandemia', 'Bebidas_dispostos_a_comprar',\n",
        "              'Meio_de_divulgacao', 'produtos_sanhacu']\n",
        "df.columns = columns\n",
        "\n",
        "df.fillna(0, inplace = True)\n",
        "df.info()"
      ],
      "execution_count": null,
      "outputs": [
        {
          "output_type": "stream",
          "text": [
            "<class 'pandas.core.frame.DataFrame'>\n",
            "RangeIndex: 101 entries, 0 to 100\n",
            "Data columns (total 10 columns):\n",
            " #   Column                       Non-Null Count  Dtype \n",
            "---  ------                       --------------  ----- \n",
            " 0   user_id                      101 non-null    object\n",
            " 1   Faixa_etaria                 101 non-null    object\n",
            " 2   Genero                       101 non-null    object\n",
            " 3   Consumidor_de_cachaca        101 non-null    object\n",
            " 4   Consumir_cachaca_artesanal   101 non-null    object\n",
            " 5   Compras_antes_pandemia       101 non-null    object\n",
            " 6   Compras_durante_pandemia     101 non-null    object\n",
            " 7   Bebidas_dispostos_a_comprar  101 non-null    object\n",
            " 8   Meio_de_divulgacao           101 non-null    object\n",
            " 9   produtos_sanhacu             101 non-null    object\n",
            "dtypes: object(10)\n",
            "memory usage: 8.0+ KB\n"
          ],
          "name": "stdout"
        }
      ]
    },
    {
      "cell_type": "code",
      "metadata": {
        "id": "vCht1qgut1uH"
      },
      "source": [
        "class DummyTransformer(TransformerMixin, BaseEstimator):    \n",
        "    def __init__(self):\n",
        "        pass\n",
        "\n",
        "    def fit(self, X, y=None):\n",
        "        return self\n",
        "    \n",
        "    def transform(self, X):\n",
        "        columns = ['Bebidas_dispostos_a_comprar', \n",
        "                   'Meio_de_divulgacao', \n",
        "                   'produtos_sanhacu','Compras_antes_pandemia',\n",
        "                   'Compras_durante_pandemia']\n",
        "\n",
        "        for column in columns:\n",
        "            str1 = ''.join(str(e)+';' for e \n",
        "                        in df[column].unique())\n",
        "                    \n",
        "            set1 = set(str1.split(';'))\n",
        "\n",
        "            if '' in set1:\n",
        "                set1.remove('')\n",
        "            if '0' in set1:\n",
        "                set1.remove('0')\n",
        "\n",
        "            for val in set1:\n",
        "                val = val.split(\"-\")[0]\n",
        "                df[val] = pd.Series([0 for x in range(len(df.index))])\n",
        "                df[val] = df[column].apply(lambda x: (1 if str(val) in str(x) else 0))\n",
        "            \n",
        "        return X"
      ],
      "execution_count": null,
      "outputs": []
    },
    {
      "cell_type": "code",
      "metadata": {
        "colab": {
          "base_uri": "https://localhost:8080/"
        },
        "id": "crna9Lb9VDjb",
        "outputId": "b91c6dd6-7529-4e7f-fd23-5da88c7769bb"
      },
      "source": [
        "def encode_column(columns, encoder):\n",
        "    for column in columns:\n",
        "        df[column] = df[column].astype(str)\n",
        "        df[column] = encoder.fit_transform(df[column]).reshape(-1, 1)\n",
        "\n",
        "label = ['user_id','Faixa_etaria', 'Genero', 'Consumidor_de_cachaca', 'Consumir_cachaca_artesanal']\n",
        "\n",
        "label_encoder = LabelEncoder()\n",
        "\n",
        "encode_column(label, label_encoder)\n",
        "dummy = DummyTransformer()\n",
        "\n",
        "df = dummy.fit_transform(df)\n",
        "\n",
        "df_transformed = df.copy()\n",
        "\n",
        "df.drop(columns=['user_id', 'Bebidas_dispostos_a_comprar',\n",
        "                 'Meio_de_divulgacao', 'produtos_sanhacu',\n",
        "                 'Compras_antes_pandemia',\n",
        "                 'Compras_durante_pandemia'], inplace=True)\n",
        "df.head()"
      ],
      "execution_count": null,
      "outputs": [
        {
          "output_type": "execute_result",
          "data": {
            "text/html": [
              "<div>\n",
              "<style scoped>\n",
              "    .dataframe tbody tr th:only-of-type {\n",
              "        vertical-align: middle;\n",
              "    }\n",
              "\n",
              "    .dataframe tbody tr th {\n",
              "        vertical-align: top;\n",
              "    }\n",
              "\n",
              "    .dataframe thead th {\n",
              "        text-align: right;\n",
              "    }\n",
              "</style>\n",
              "<table border=\"1\" class=\"dataframe\">\n",
              "  <thead>\n",
              "    <tr style=\"text-align: right;\">\n",
              "      <th></th>\n",
              "      <th>Faixa_etaria</th>\n",
              "      <th>Genero</th>\n",
              "      <th>Consumidor_de_cachaca</th>\n",
              "      <th>Consumir_cachaca_artesanal</th>\n",
              "      <th>Whisky</th>\n",
              "      <th>Rum</th>\n",
              "      <th>Cerveja</th>\n",
              "      <th>Cachaça</th>\n",
              "      <th>Tequila</th>\n",
              "      <th>Vodka</th>\n",
              "      <th>Champanhe</th>\n",
              "      <th>Gim</th>\n",
              "      <th>Boca a Boca</th>\n",
              "      <th>TV</th>\n",
              "      <th>Influenciadores</th>\n",
              "      <th>Propagandas na internet</th>\n",
              "      <th>Redes Socias(Twitter, Instagram)</th>\n",
              "      <th>Freijó</th>\n",
              "      <th>Carvalho</th>\n",
              "      <th>Origem</th>\n",
              "      <th>Umburana</th>\n",
              "      <th>Online</th>\n",
              "      <th>Físico</th>\n",
              "    </tr>\n",
              "  </thead>\n",
              "  <tbody>\n",
              "    <tr>\n",
              "      <th>0</th>\n",
              "      <td>1</td>\n",
              "      <td>2</td>\n",
              "      <td>1</td>\n",
              "      <td>1</td>\n",
              "      <td>1</td>\n",
              "      <td>1</td>\n",
              "      <td>1</td>\n",
              "      <td>1</td>\n",
              "      <td>1</td>\n",
              "      <td>1</td>\n",
              "      <td>0</td>\n",
              "      <td>1</td>\n",
              "      <td>0</td>\n",
              "      <td>0</td>\n",
              "      <td>0</td>\n",
              "      <td>1</td>\n",
              "      <td>1</td>\n",
              "      <td>1</td>\n",
              "      <td>1</td>\n",
              "      <td>1</td>\n",
              "      <td>1</td>\n",
              "      <td>0</td>\n",
              "      <td>0</td>\n",
              "    </tr>\n",
              "    <tr>\n",
              "      <th>1</th>\n",
              "      <td>1</td>\n",
              "      <td>2</td>\n",
              "      <td>1</td>\n",
              "      <td>1</td>\n",
              "      <td>1</td>\n",
              "      <td>0</td>\n",
              "      <td>1</td>\n",
              "      <td>1</td>\n",
              "      <td>0</td>\n",
              "      <td>1</td>\n",
              "      <td>1</td>\n",
              "      <td>1</td>\n",
              "      <td>0</td>\n",
              "      <td>0</td>\n",
              "      <td>0</td>\n",
              "      <td>1</td>\n",
              "      <td>0</td>\n",
              "      <td>0</td>\n",
              "      <td>1</td>\n",
              "      <td>0</td>\n",
              "      <td>0</td>\n",
              "      <td>0</td>\n",
              "      <td>1</td>\n",
              "    </tr>\n",
              "    <tr>\n",
              "      <th>2</th>\n",
              "      <td>1</td>\n",
              "      <td>2</td>\n",
              "      <td>1</td>\n",
              "      <td>1</td>\n",
              "      <td>0</td>\n",
              "      <td>0</td>\n",
              "      <td>0</td>\n",
              "      <td>0</td>\n",
              "      <td>0</td>\n",
              "      <td>0</td>\n",
              "      <td>0</td>\n",
              "      <td>0</td>\n",
              "      <td>0</td>\n",
              "      <td>0</td>\n",
              "      <td>0</td>\n",
              "      <td>0</td>\n",
              "      <td>0</td>\n",
              "      <td>0</td>\n",
              "      <td>0</td>\n",
              "      <td>0</td>\n",
              "      <td>0</td>\n",
              "      <td>0</td>\n",
              "      <td>0</td>\n",
              "    </tr>\n",
              "    <tr>\n",
              "      <th>3</th>\n",
              "      <td>2</td>\n",
              "      <td>2</td>\n",
              "      <td>2</td>\n",
              "      <td>1</td>\n",
              "      <td>1</td>\n",
              "      <td>1</td>\n",
              "      <td>1</td>\n",
              "      <td>1</td>\n",
              "      <td>1</td>\n",
              "      <td>1</td>\n",
              "      <td>1</td>\n",
              "      <td>1</td>\n",
              "      <td>0</td>\n",
              "      <td>0</td>\n",
              "      <td>0</td>\n",
              "      <td>0</td>\n",
              "      <td>1</td>\n",
              "      <td>0</td>\n",
              "      <td>0</td>\n",
              "      <td>0</td>\n",
              "      <td>1</td>\n",
              "      <td>0</td>\n",
              "      <td>1</td>\n",
              "    </tr>\n",
              "    <tr>\n",
              "      <th>4</th>\n",
              "      <td>4</td>\n",
              "      <td>2</td>\n",
              "      <td>2</td>\n",
              "      <td>2</td>\n",
              "      <td>0</td>\n",
              "      <td>0</td>\n",
              "      <td>0</td>\n",
              "      <td>1</td>\n",
              "      <td>0</td>\n",
              "      <td>1</td>\n",
              "      <td>0</td>\n",
              "      <td>0</td>\n",
              "      <td>0</td>\n",
              "      <td>1</td>\n",
              "      <td>0</td>\n",
              "      <td>0</td>\n",
              "      <td>0</td>\n",
              "      <td>0</td>\n",
              "      <td>0</td>\n",
              "      <td>1</td>\n",
              "      <td>0</td>\n",
              "      <td>0</td>\n",
              "      <td>1</td>\n",
              "    </tr>\n",
              "  </tbody>\n",
              "</table>\n",
              "</div>"
            ],
            "text/plain": [
              "   Faixa_etaria  Genero  Consumidor_de_cachaca  ...  Umburana   Online  Físico\n",
              "0             1       2                      1  ...          1       0       0\n",
              "1             1       2                      1  ...          0       0       1\n",
              "2             1       2                      1  ...          0       0       0\n",
              "3             2       2                      2  ...          1       0       1\n",
              "4             4       2                      2  ...          0       0       1\n",
              "\n",
              "[5 rows x 23 columns]"
            ]
          },
          "metadata": {
            "tags": []
          },
          "execution_count": 5
        }
      ]
    },
    {
      "cell_type": "code",
      "metadata": {
        "id": "aQ33DJmWAj4O"
      },
      "source": [
        "#normalização\n",
        "col = df.columns\n",
        "scaler = StandardScaler()\n",
        "df = scaler.fit_transform(df)\n",
        "df = pd.DataFrame(df,columns = col)"
      ],
      "execution_count": null,
      "outputs": []
    },
    {
      "cell_type": "code",
      "metadata": {
        "colab": {
          "base_uri": "https://localhost:8080/"
        },
        "id": "ctTLNBIq57kw",
        "outputId": "c2042a0f-3762-44db-924b-eefd8cee8697"
      },
      "source": [
        "df.head()"
      ],
      "execution_count": null,
      "outputs": [
        {
          "output_type": "execute_result",
          "data": {
            "text/html": [
              "<div>\n",
              "<style scoped>\n",
              "    .dataframe tbody tr th:only-of-type {\n",
              "        vertical-align: middle;\n",
              "    }\n",
              "\n",
              "    .dataframe tbody tr th {\n",
              "        vertical-align: top;\n",
              "    }\n",
              "\n",
              "    .dataframe thead th {\n",
              "        text-align: right;\n",
              "    }\n",
              "</style>\n",
              "<table border=\"1\" class=\"dataframe\">\n",
              "  <thead>\n",
              "    <tr style=\"text-align: right;\">\n",
              "      <th></th>\n",
              "      <th>Faixa_etaria</th>\n",
              "      <th>Genero</th>\n",
              "      <th>Consumidor_de_cachaca</th>\n",
              "      <th>Consumir_cachaca_artesanal</th>\n",
              "      <th>Whisky</th>\n",
              "      <th>Rum</th>\n",
              "      <th>Cerveja</th>\n",
              "      <th>Cachaça</th>\n",
              "      <th>Tequila</th>\n",
              "      <th>Vodka</th>\n",
              "      <th>Champanhe</th>\n",
              "      <th>Gim</th>\n",
              "      <th>Boca a Boca</th>\n",
              "      <th>TV</th>\n",
              "      <th>Influenciadores</th>\n",
              "      <th>Propagandas na internet</th>\n",
              "      <th>Redes Socias(Twitter, Instagram)</th>\n",
              "      <th>Freijó</th>\n",
              "      <th>Carvalho</th>\n",
              "      <th>Origem</th>\n",
              "      <th>Umburana</th>\n",
              "      <th>Online</th>\n",
              "      <th>Físico</th>\n",
              "    </tr>\n",
              "  </thead>\n",
              "  <tbody>\n",
              "    <tr>\n",
              "      <th>0</th>\n",
              "      <td>-0.565488</td>\n",
              "      <td>0.693782</td>\n",
              "      <td>-0.702757</td>\n",
              "      <td>-0.671836</td>\n",
              "      <td>1.115547</td>\n",
              "      <td>2.304886</td>\n",
              "      <td>0.588784</td>\n",
              "      <td>1.071884</td>\n",
              "      <td>1.614665</td>\n",
              "      <td>1.138180</td>\n",
              "      <td>-0.650027</td>\n",
              "      <td>1.115547</td>\n",
              "      <td>-1.209717</td>\n",
              "      <td>-0.481360</td>\n",
              "      <td>-0.588784</td>\n",
              "      <td>1.185227</td>\n",
              "      <td>0.809776</td>\n",
              "      <td>1.614665</td>\n",
              "      <td>1.260850</td>\n",
              "      <td>1.614665</td>\n",
              "      <td>0.990148</td>\n",
              "      <td>-0.60404</td>\n",
              "      <td>-1.030158</td>\n",
              "    </tr>\n",
              "    <tr>\n",
              "      <th>1</th>\n",
              "      <td>-0.565488</td>\n",
              "      <td>0.693782</td>\n",
              "      <td>-0.702757</td>\n",
              "      <td>-0.671836</td>\n",
              "      <td>1.115547</td>\n",
              "      <td>-0.433861</td>\n",
              "      <td>0.588784</td>\n",
              "      <td>1.071884</td>\n",
              "      <td>-0.619324</td>\n",
              "      <td>1.138180</td>\n",
              "      <td>1.538397</td>\n",
              "      <td>1.115547</td>\n",
              "      <td>-1.209717</td>\n",
              "      <td>-0.481360</td>\n",
              "      <td>-0.588784</td>\n",
              "      <td>1.185227</td>\n",
              "      <td>-1.234909</td>\n",
              "      <td>-0.619324</td>\n",
              "      <td>1.260850</td>\n",
              "      <td>-0.619324</td>\n",
              "      <td>-1.009950</td>\n",
              "      <td>-0.60404</td>\n",
              "      <td>0.970725</td>\n",
              "    </tr>\n",
              "    <tr>\n",
              "      <th>2</th>\n",
              "      <td>-0.565488</td>\n",
              "      <td>0.693782</td>\n",
              "      <td>-0.702757</td>\n",
              "      <td>-0.671836</td>\n",
              "      <td>-0.896421</td>\n",
              "      <td>-0.433861</td>\n",
              "      <td>-1.698416</td>\n",
              "      <td>-0.932936</td>\n",
              "      <td>-0.619324</td>\n",
              "      <td>-0.878595</td>\n",
              "      <td>-0.650027</td>\n",
              "      <td>-0.896421</td>\n",
              "      <td>-1.209717</td>\n",
              "      <td>-0.481360</td>\n",
              "      <td>-0.588784</td>\n",
              "      <td>-0.843721</td>\n",
              "      <td>-1.234909</td>\n",
              "      <td>-0.619324</td>\n",
              "      <td>-0.793116</td>\n",
              "      <td>-0.619324</td>\n",
              "      <td>-1.009950</td>\n",
              "      <td>-0.60404</td>\n",
              "      <td>-1.030158</td>\n",
              "    </tr>\n",
              "    <tr>\n",
              "      <th>3</th>\n",
              "      <td>0.299880</td>\n",
              "      <td>0.693782</td>\n",
              "      <td>1.215579</td>\n",
              "      <td>-0.671836</td>\n",
              "      <td>1.115547</td>\n",
              "      <td>2.304886</td>\n",
              "      <td>0.588784</td>\n",
              "      <td>1.071884</td>\n",
              "      <td>1.614665</td>\n",
              "      <td>1.138180</td>\n",
              "      <td>1.538397</td>\n",
              "      <td>1.115547</td>\n",
              "      <td>-1.209717</td>\n",
              "      <td>-0.481360</td>\n",
              "      <td>-0.588784</td>\n",
              "      <td>-0.843721</td>\n",
              "      <td>0.809776</td>\n",
              "      <td>-0.619324</td>\n",
              "      <td>-0.793116</td>\n",
              "      <td>-0.619324</td>\n",
              "      <td>0.990148</td>\n",
              "      <td>-0.60404</td>\n",
              "      <td>0.970725</td>\n",
              "    </tr>\n",
              "    <tr>\n",
              "      <th>4</th>\n",
              "      <td>2.030616</td>\n",
              "      <td>0.693782</td>\n",
              "      <td>1.215579</td>\n",
              "      <td>1.266890</td>\n",
              "      <td>-0.896421</td>\n",
              "      <td>-0.433861</td>\n",
              "      <td>-1.698416</td>\n",
              "      <td>1.071884</td>\n",
              "      <td>-0.619324</td>\n",
              "      <td>1.138180</td>\n",
              "      <td>-0.650027</td>\n",
              "      <td>-0.896421</td>\n",
              "      <td>-1.209717</td>\n",
              "      <td>2.077448</td>\n",
              "      <td>-0.588784</td>\n",
              "      <td>-0.843721</td>\n",
              "      <td>-1.234909</td>\n",
              "      <td>-0.619324</td>\n",
              "      <td>-0.793116</td>\n",
              "      <td>1.614665</td>\n",
              "      <td>-1.009950</td>\n",
              "      <td>-0.60404</td>\n",
              "      <td>0.970725</td>\n",
              "    </tr>\n",
              "  </tbody>\n",
              "</table>\n",
              "</div>"
            ],
            "text/plain": [
              "   Faixa_etaria    Genero  Consumidor_de_cachaca  ...  Umburana    Online    Físico\n",
              "0     -0.565488  0.693782              -0.702757  ...   0.990148 -0.60404 -1.030158\n",
              "1     -0.565488  0.693782              -0.702757  ...  -1.009950 -0.60404  0.970725\n",
              "2     -0.565488  0.693782              -0.702757  ...  -1.009950 -0.60404 -1.030158\n",
              "3      0.299880  0.693782               1.215579  ...   0.990148 -0.60404  0.970725\n",
              "4      2.030616  0.693782               1.215579  ...  -1.009950 -0.60404  0.970725\n",
              "\n",
              "[5 rows x 23 columns]"
            ]
          },
          "metadata": {
            "tags": []
          },
          "execution_count": 7
        }
      ]
    },
    {
      "cell_type": "code",
      "metadata": {
        "colab": {
          "base_uri": "https://localhost:8080/"
        },
        "id": "8KHYM0T5Dzl6",
        "outputId": "3c3f1d31-66d0-4cd5-96f0-960c3de084e3"
      },
      "source": [
        "df.info()"
      ],
      "execution_count": null,
      "outputs": [
        {
          "output_type": "stream",
          "text": [
            "<class 'pandas.core.frame.DataFrame'>\n",
            "RangeIndex: 101 entries, 0 to 100\n",
            "Data columns (total 23 columns):\n",
            " #   Column                            Non-Null Count  Dtype  \n",
            "---  ------                            --------------  -----  \n",
            " 0   Faixa_etaria                      101 non-null    float64\n",
            " 1   Genero                            101 non-null    float64\n",
            " 2   Consumidor_de_cachaca             101 non-null    float64\n",
            " 3   Consumir_cachaca_artesanal        101 non-null    float64\n",
            " 4   Whisky                            101 non-null    float64\n",
            " 5   Rum                               101 non-null    float64\n",
            " 6   Cerveja                           101 non-null    float64\n",
            " 7   Cachaça                           101 non-null    float64\n",
            " 8   Tequila                           101 non-null    float64\n",
            " 9   Vodka                             101 non-null    float64\n",
            " 10  Champanhe                         101 non-null    float64\n",
            " 11  Gim                               101 non-null    float64\n",
            " 12  Boca a Boca                       101 non-null    float64\n",
            " 13  TV                                101 non-null    float64\n",
            " 14  Influenciadores                   101 non-null    float64\n",
            " 15  Propagandas na internet           101 non-null    float64\n",
            " 16  Redes Socias(Twitter, Instagram)  101 non-null    float64\n",
            " 17  Freijó                            101 non-null    float64\n",
            " 18  Carvalho                          101 non-null    float64\n",
            " 19  Origem                            101 non-null    float64\n",
            " 20  Umburana                          101 non-null    float64\n",
            " 21  Online                            101 non-null    float64\n",
            " 22  Físico                            101 non-null    float64\n",
            "dtypes: float64(23)\n",
            "memory usage: 18.3 KB\n"
          ],
          "name": "stdout"
        }
      ]
    },
    {
      "cell_type": "markdown",
      "metadata": {
        "id": "jX5Qh8DlDOhA"
      },
      "source": [
        "#KMeans Clustering\n"
      ]
    },
    {
      "cell_type": "markdown",
      "metadata": {
        "id": "uR0fKV0mQb3r"
      },
      "source": [
        "## Selecionando e criando um modelo\n",
        "Como nosso objetivo é identificar o perfil do nosso usuário, aplicamos uma tecnica de aprendizagem não-supervisionada utilizando KMeans().\n",
        "\n",
        "Treinamos o modelo com quantidade de 1 até 15 clusters. Fizemos a utilização de um gráfico do cotovelo utilizando da distorção para defirnir a melhor quantidade de clusters, porém não conseguimos identificar a melhor quantidade utilizando somente essa técnica. Devido a isso, partimos para uma avaliação utilizando o método da silhueta.\n",
        "\n",
        "No método da silhueta, chegamos a conclusão que o melhor número de clusters é 7, pois no gráfico de 7 clusters todos os pontos estão acima da média de silhoutte_score. Não escolhemos 5 ou 8 clusters pela consistencia dos clusters, que apresentão diferenças nas 'larguras'. Por fim, decidimos continuar com o número de clusters = 7.\n",
        "\n",
        "Também utilizamos o método de calculo de distancia entre os clusters. E podemos validar que existe uma boa relação entra as distancias.\n",
        "\n",
        "Após o treinamento e seleção de número de cluster utilizamos um PCA() para reduzir a dimensionalidade da predição e após isso plotar uma visualização do cluster."
      ]
    },
    {
      "cell_type": "code",
      "metadata": {
        "colab": {
          "base_uri": "https://localhost:8080/"
        },
        "id": "03e3oBwEB7wL",
        "outputId": "88f3fa1e-8e6a-4ee7-903a-38bddb7dd416"
      },
      "source": [
        "distortions = []\n",
        "num_clusters =  range(1,16)\n",
        "\n",
        "\n",
        "for n in num_clusters:\n",
        "    print(\"-\", end = '')\n",
        "    kmeans = KMeans(n_clusters=n, random_state=42)\n",
        "    kmeans.fit(df)\n",
        "    distortions.append(kmeans.inertia_)\n",
        "\n",
        "fig = plt.figure(figsize=(16, 12))    \n",
        "elbow_plot = pd.DataFrame({'num_clusters': num_clusters, 'distortions': distortions})\n",
        "sns.lineplot(x='num_clusters', y='distortions', data = elbow_plot)\n",
        "plt.xticks(num_clusters)\n",
        "plt.show()"
      ],
      "execution_count": null,
      "outputs": [
        {
          "output_type": "stream",
          "text": [
            "---------------"
          ],
          "name": "stdout"
        },
        {
          "output_type": "display_data",
          "data": {
            "image/png": "[encoded data removed]",
            "text/plain": [
              "<Figure size 1152x864 with 1 Axes>"
            ]
          },
          "metadata": {
            "tags": []
          }
        }
      ]
    },
    {
      "cell_type": "code",
      "metadata": {
        "colab": {
          "base_uri": "https://localhost:8080/"
        },
        "id": "3hzfuf63QdNV",
        "outputId": "9adfd326-d1b5-4f35-e50a-5be3c9c52b1d"
      },
      "source": [
        "for i in range(2,10):\n",
        "    fig = plt.figure(figsize=(9, 7))\n",
        "    model = KMeans(i, random_state=42)\n",
        "    visualizer = SilhouetteVisualizer(model)\n",
        "    visualizer.fit(df)\n",
        "    visualizer.poof()"
      ],
      "execution_count": null,
      "outputs": [
        {
          "output_type": "display_data",
          "data": {
            "image/png": "[encoded data removed]",
            "text/plain": [
              "<Figure size 648x504 with 1 Axes>"
            ]
          },
          "metadata": {
            "tags": []
          }
        },
        {
          "output_type": "display_data",
          "data": {
            "image/png": "[encoded data removed]",
            "text/plain": [
              "<Figure size 648x504 with 1 Axes>"
            ]
          },
          "metadata": {
            "tags": []
          }
        },
        {
          "output_type": "display_data",
          "data": {
            "image/png": "[encoded data removed]",
            "text/plain": [
              "<Figure size 648x504 with 1 Axes>"
            ]
          },
          "metadata": {
            "tags": []
          }
        },
        {
          "output_type": "display_data",
          "data": {
            "image/png": "[encoded data removed]",
            "text/plain": [
              "<Figure size 648x504 with 1 Axes>"
            ]
          },
          "metadata": {
            "tags": []
          }
        },
        {
          "output_type": "display_data",
          "data": {
            "image/png": "[encoded data removed]",
            "text/plain": [
              "<Figure size 648x504 with 1 Axes>"
            ]
          },
          "metadata": {
            "tags": []
          }
        },
        {
          "output_type": "display_data",
          "data": {
            "image/png": "[encoded data removed]",
            "text/plain": [
              "<Figure size 648x504 with 1 Axes>"
            ]
          },
          "metadata": {
            "tags": []
          }
        },
        {
          "output_type": "display_data",
          "data": {
            "image/png": "[encoded data removed]",
            "text/plain": [
              "<Figure size 648x504 with 1 Axes>"
            ]
          },
          "metadata": {
            "tags": []
          }
        },
        {
          "output_type": "display_data",
          "data": {
            "image/png": "[encoded data removed]",
            "text/plain": [
              "<Figure size 648x504 with 1 Axes>"
            ]
          },
          "metadata": {
            "tags": []
          }
        }
      ]
    },
    {
      "cell_type": "code",
      "metadata": {
        "colab": {
          "base_uri": "https://localhost:8080/"
        },
        "id": "N7HbxNb4RxaA",
        "outputId": "82d0c187-a6d9-4d9b-a4e5-96901ea1278d"
      },
      "source": [
        "fig = plt.figure(figsize=(16, 12))\n",
        "model = KMeans(7, random_state=42)\n",
        "visualizer = InterclusterDistance(model)\n",
        "visualizer.fit(df)\n",
        "visualizer.poof()    "
      ],
      "execution_count": null,
      "outputs": [
        {
          "output_type": "display_data",
          "data": {
            "image/png": "[encoded data removed]",
            "text/plain": [
              "<Figure size 1152x864 with 2 Axes>"
            ]
          },
          "metadata": {
            "tags": []
          }
        }
      ]
    },
    {
      "cell_type": "code",
      "metadata": {
        "colab": {
          "base_uri": "https://localhost:8080/"
        },
        "id": "uS0lwPVyCwKj",
        "outputId": "5439baf0-4a8a-4592-a70b-8051a5340642"
      },
      "source": [
        "kmeans = KMeans(n_clusters=7, random_state=0).fit(df)\n",
        "cluster_pred = kmeans.predict(df)\n",
        "print(\"kmeans Predict:\\n{}\\n\".format(cluster_pred))\n",
        "print(\"Clustering Score:\\n{}\".format(kmeans.inertia_))"
      ],
      "execution_count": null,
      "outputs": [
        {
          "output_type": "stream",
          "text": [
            "kmeans Predict:\n",
            "[2 3 4 2 6 4 5 4 3 4 2 5 3 3 0 2 3 3 4 4 6 4 3 4 4 3 2 4 6 2 1 2 2 4 3 1 1\n",
            " 2 6 4 4 6 4 1 1 2 1 6 6 4 0 4 1 3 0 6 3 4 1 4 3 2 3 4 3 3 4 0 2 1 6 1 3 2\n",
            " 4 0 4 1 3 3 2 0 6 2 5 0 5 4 1 3 6 1 1 1 6 1 6 2 6 2 1]\n",
            "\n",
            "Clustering Score:\n",
            "1533.2807684950046\n"
          ],
          "name": "stdout"
        }
      ]
    },
    {
      "cell_type": "code",
      "metadata": {
        "colab": {
          "base_uri": "https://localhost:8080/"
        },
        "id": "cFqR6xLTCwHV",
        "outputId": "0ae31ff8-a377-4fbd-8283-0ef560b2788a"
      },
      "source": [
        "pca = PCA(2)\n",
        "\n",
        "df = pca.fit_transform(df)\n",
        "label = kmeans.fit_predict(df)\n",
        "centroids = kmeans.cluster_centers_\n",
        "u_labels = np.unique(label)\n",
        "\n",
        "fig = plt.figure(figsize=(16, 12))\n",
        "\n",
        "for i in u_labels:\n",
        "    plt.scatter(df[label == i , 0] , df[label == i , 1] , label = i)\n",
        "plt.scatter(centroids[:,0] , centroids[:,1] , s = 500, color = 'r')\n",
        "plt.legend()\n",
        "plt.show()"
      ],
      "execution_count": null,
      "outputs": [
        {
          "output_type": "display_data",
          "data": {
            "image/png": "[encoded data removed]",
            "text/plain": [
              "<Figure size 1152x864 with 1 Axes>"
            ]
          },
          "metadata": {
            "tags": []
          }
        }
      ]
    },
    {
      "cell_type": "code",
      "metadata": {
        "id": "0YZ9Jjz7JFG9"
      },
      "source": [
        "df = pd.read_csv('Consumidores.csv')\n",
        "df['Clusters'] = cluster_pred\n",
        "df = df.sort_values('Clusters')\n",
        "df[\"Timestamp\"] = label_encoder.fit_transform(df[\"Timestamp\"])\n",
        "df.rename(columns={'Timestamp': 'user_id'}, inplace=True)\n",
        "df.to_csv('clusters.csv')"
      ],
      "execution_count": null,
      "outputs": []
    },
    {
      "cell_type": "code",
      "metadata": {
        "colab": {
          "base_uri": "https://localhost:8080/"
        },
        "id": "QXVpNqxJQeA8",
        "outputId": "25347b75-5edd-4ab5-9ae8-35b51abd9f98"
      },
      "source": [
        "df.head()"
      ],
      "execution_count": null,
      "outputs": [
        {
          "output_type": "execute_result",
          "data": {
            "text/html": [
              "<div>\n",
              "<style scoped>\n",
              "    .dataframe tbody tr th:only-of-type {\n",
              "        vertical-align: middle;\n",
              "    }\n",
              "\n",
              "    .dataframe tbody tr th {\n",
              "        vertical-align: top;\n",
              "    }\n",
              "\n",
              "    .dataframe thead th {\n",
              "        text-align: right;\n",
              "    }\n",
              "</style>\n",
              "<table border=\"1\" class=\"dataframe\">\n",
              "  <thead>\n",
              "    <tr style=\"text-align: right;\">\n",
              "      <th></th>\n",
              "      <th>user_id</th>\n",
              "      <th>Qual sua faixa etária?</th>\n",
              "      <th>Qual seu gênero?</th>\n",
              "      <th>Você se considera um consumidor de Cachaça?</th>\n",
              "      <th>Você costuma consumir Cachaças Artesanais?</th>\n",
              "      <th>Antes da pandemia, costumava comprar Cachaça online ou de maneira física?</th>\n",
              "      <th>Atualmente, na pandemia, costuma comprar Cachaça online ou de maneira física?</th>\n",
              "      <th>Quais destas bebidas você estaria disposto a comprar?</th>\n",
              "      <th>Por qual lugar você ficaria sabendo onde comprar?</th>\n",
              "      <th>Quais dessas Cachaças da Sanhaçu você teria interesse em comprar?</th>\n",
              "      <th>Clusters</th>\n",
              "    </tr>\n",
              "  </thead>\n",
              "  <tbody>\n",
              "    <tr>\n",
              "      <th>50</th>\n",
              "      <td>49</td>\n",
              "      <td>38-48</td>\n",
              "      <td>Masculino</td>\n",
              "      <td>Sim</td>\n",
              "      <td>Sim</td>\n",
              "      <td>Físico</td>\n",
              "      <td>Online;Físico</td>\n",
              "      <td>Cachaça;Cerveja</td>\n",
              "      <td>Influenciadores;Redes Socias(Twitter, Instagram)</td>\n",
              "      <td>Carvalho - O carvalho é uma madeira importada....</td>\n",
              "      <td>0</td>\n",
              "    </tr>\n",
              "    <tr>\n",
              "      <th>85</th>\n",
              "      <td>77</td>\n",
              "      <td>38-48</td>\n",
              "      <td>Masculino</td>\n",
              "      <td>Sim</td>\n",
              "      <td>Sim</td>\n",
              "      <td>Físico</td>\n",
              "      <td>Online</td>\n",
              "      <td>Cachaça;Cerveja;Whisky;Champanhe</td>\n",
              "      <td>Propagandas na internet;Redes Socias(Twitter, ...</td>\n",
              "      <td>Carvalho - O carvalho é uma madeira importada....</td>\n",
              "      <td>0</td>\n",
              "    </tr>\n",
              "    <tr>\n",
              "      <th>81</th>\n",
              "      <td>70</td>\n",
              "      <td>38-48</td>\n",
              "      <td>Masculino</td>\n",
              "      <td>Sim</td>\n",
              "      <td>Sim</td>\n",
              "      <td>Físico</td>\n",
              "      <td>Online;Físico</td>\n",
              "      <td>Cachaça;Cerveja</td>\n",
              "      <td>Influenciadores;Redes Socias(Twitter, Instagram)</td>\n",
              "      <td>Carvalho - O carvalho é uma madeira importada....</td>\n",
              "      <td>0</td>\n",
              "    </tr>\n",
              "    <tr>\n",
              "      <th>54</th>\n",
              "      <td>53</td>\n",
              "      <td>28-38</td>\n",
              "      <td>Feminio</td>\n",
              "      <td>Não</td>\n",
              "      <td>Não</td>\n",
              "      <td>Físico</td>\n",
              "      <td>Online</td>\n",
              "      <td>Cachaça;Cerveja;Champanhe;Tequila</td>\n",
              "      <td>Propagandas na internet;Redes Socias(Twitter, ...</td>\n",
              "      <td>Carvalho - O carvalho é uma madeira importada....</td>\n",
              "      <td>0</td>\n",
              "    </tr>\n",
              "    <tr>\n",
              "      <th>75</th>\n",
              "      <td>62</td>\n",
              "      <td>28-38</td>\n",
              "      <td>Masculino</td>\n",
              "      <td>Sim</td>\n",
              "      <td>Sim</td>\n",
              "      <td>Online;Físico</td>\n",
              "      <td>Online</td>\n",
              "      <td>Cachaça;Gim;Cerveja;Whisky</td>\n",
              "      <td>Influenciadores;Propagandas na internet;Redes ...</td>\n",
              "      <td>Freijó - Freijó é uma madeira da Amazônia que ...</td>\n",
              "      <td>0</td>\n",
              "    </tr>\n",
              "  </tbody>\n",
              "</table>\n",
              "</div>"
            ],
            "text/plain": [
              "    user_id  ... Clusters\n",
              "50       49  ...        0\n",
              "85       77  ...        0\n",
              "81       70  ...        0\n",
              "54       53  ...        0\n",
              "75       62  ...        0\n",
              "\n",
              "[5 rows x 11 columns]"
            ]
          },
          "metadata": {
            "tags": []
          },
          "execution_count": 15
        }
      ]
    },
    {
      "cell_type": "code",
      "metadata": {
        "colab": {
          "base_uri": "https://localhost:8080/"
        },
        "id": "gV7fc4j-W-Gh",
        "outputId": "40ef75cb-4bbe-44de-9e82-ab1febbabeb6"
      },
      "source": [
        "columns = ['user_id','Faixa_etaria', 'Genero', 'Consumidor_de_cachaca', 'Consumir_cachaca_artesanal',\n",
        "              'Compras_antes_pandemia', 'Compras_durante_pandemia', 'Bebidas_dispostos_a_comprar',\n",
        "              'Meio_de_divulgacao', 'produtos_sanhacu', 'Clusters']\n",
        "df.columns = columns\n",
        "\n",
        "def encode_column(columns, encoder):\n",
        "    for column in columns:\n",
        "        df[column] = df[column].astype(str)\n",
        "        df[column] = encoder.fit_transform(df[column]).reshape(-1, 1)\n",
        "\n",
        "label = ['user_id','Faixa_etaria', 'Genero', 'Consumidor_de_cachaca', 'Consumir_cachaca_artesanal']\n",
        "\n",
        "label_encoder = LabelEncoder()\n",
        "\n",
        "encode_column(label, label_encoder)\n",
        "dummy = DummyTransformer()\n",
        "\n",
        "df = dummy.fit_transform(df)\n",
        "\n",
        "df_transformed = df.copy()\n",
        "\n",
        "df.drop(columns=['user_id', 'Bebidas_dispostos_a_comprar',\n",
        "                 'Meio_de_divulgacao', 'produtos_sanhacu',\n",
        "                 'Compras_antes_pandemia',\n",
        "                 'Compras_durante_pandemia'], inplace=True)\n",
        "df.head()"
      ],
      "execution_count": null,
      "outputs": [
        {
          "output_type": "execute_result",
          "data": {
            "text/html": [
              "<div>\n",
              "<style scoped>\n",
              "    .dataframe tbody tr th:only-of-type {\n",
              "        vertical-align: middle;\n",
              "    }\n",
              "\n",
              "    .dataframe tbody tr th {\n",
              "        vertical-align: top;\n",
              "    }\n",
              "\n",
              "    .dataframe thead th {\n",
              "        text-align: right;\n",
              "    }\n",
              "</style>\n",
              "<table border=\"1\" class=\"dataframe\">\n",
              "  <thead>\n",
              "    <tr style=\"text-align: right;\">\n",
              "      <th></th>\n",
              "      <th>Faixa_etaria</th>\n",
              "      <th>Genero</th>\n",
              "      <th>Consumidor_de_cachaca</th>\n",
              "      <th>Consumir_cachaca_artesanal</th>\n",
              "      <th>Clusters</th>\n",
              "      <th>Whisky</th>\n",
              "      <th>Rum</th>\n",
              "      <th>Cerveja</th>\n",
              "      <th>nan</th>\n",
              "      <th>Cachaça</th>\n",
              "      <th>Tequila</th>\n",
              "      <th>Vodka</th>\n",
              "      <th>Champanhe</th>\n",
              "      <th>Gim</th>\n",
              "      <th>Boca a Boca</th>\n",
              "      <th>TV</th>\n",
              "      <th>Influenciadores</th>\n",
              "      <th>Propagandas na internet</th>\n",
              "      <th>Redes Socias(Twitter, Instagram)</th>\n",
              "      <th>Freijó</th>\n",
              "      <th>Carvalho</th>\n",
              "      <th>Origem</th>\n",
              "      <th>Umburana</th>\n",
              "      <th>Online</th>\n",
              "      <th>Físico</th>\n",
              "    </tr>\n",
              "  </thead>\n",
              "  <tbody>\n",
              "    <tr>\n",
              "      <th>50</th>\n",
              "      <td>2</td>\n",
              "      <td>1</td>\n",
              "      <td>1</td>\n",
              "      <td>1</td>\n",
              "      <td>0</td>\n",
              "      <td>0</td>\n",
              "      <td>0</td>\n",
              "      <td>1</td>\n",
              "      <td>0</td>\n",
              "      <td>1</td>\n",
              "      <td>0</td>\n",
              "      <td>0</td>\n",
              "      <td>0</td>\n",
              "      <td>0</td>\n",
              "      <td>0</td>\n",
              "      <td>0</td>\n",
              "      <td>1</td>\n",
              "      <td>0</td>\n",
              "      <td>1</td>\n",
              "      <td>0</td>\n",
              "      <td>1</td>\n",
              "      <td>0</td>\n",
              "      <td>1</td>\n",
              "      <td>1</td>\n",
              "      <td>1</td>\n",
              "    </tr>\n",
              "    <tr>\n",
              "      <th>85</th>\n",
              "      <td>2</td>\n",
              "      <td>1</td>\n",
              "      <td>1</td>\n",
              "      <td>1</td>\n",
              "      <td>0</td>\n",
              "      <td>1</td>\n",
              "      <td>0</td>\n",
              "      <td>1</td>\n",
              "      <td>0</td>\n",
              "      <td>1</td>\n",
              "      <td>0</td>\n",
              "      <td>0</td>\n",
              "      <td>1</td>\n",
              "      <td>0</td>\n",
              "      <td>0</td>\n",
              "      <td>0</td>\n",
              "      <td>0</td>\n",
              "      <td>1</td>\n",
              "      <td>1</td>\n",
              "      <td>0</td>\n",
              "      <td>1</td>\n",
              "      <td>0</td>\n",
              "      <td>0</td>\n",
              "      <td>1</td>\n",
              "      <td>0</td>\n",
              "    </tr>\n",
              "    <tr>\n",
              "      <th>81</th>\n",
              "      <td>2</td>\n",
              "      <td>1</td>\n",
              "      <td>1</td>\n",
              "      <td>1</td>\n",
              "      <td>0</td>\n",
              "      <td>0</td>\n",
              "      <td>0</td>\n",
              "      <td>1</td>\n",
              "      <td>0</td>\n",
              "      <td>1</td>\n",
              "      <td>0</td>\n",
              "      <td>0</td>\n",
              "      <td>0</td>\n",
              "      <td>0</td>\n",
              "      <td>0</td>\n",
              "      <td>0</td>\n",
              "      <td>1</td>\n",
              "      <td>0</td>\n",
              "      <td>1</td>\n",
              "      <td>0</td>\n",
              "      <td>1</td>\n",
              "      <td>0</td>\n",
              "      <td>1</td>\n",
              "      <td>1</td>\n",
              "      <td>1</td>\n",
              "    </tr>\n",
              "    <tr>\n",
              "      <th>54</th>\n",
              "      <td>1</td>\n",
              "      <td>0</td>\n",
              "      <td>0</td>\n",
              "      <td>0</td>\n",
              "      <td>0</td>\n",
              "      <td>0</td>\n",
              "      <td>0</td>\n",
              "      <td>1</td>\n",
              "      <td>0</td>\n",
              "      <td>1</td>\n",
              "      <td>1</td>\n",
              "      <td>0</td>\n",
              "      <td>1</td>\n",
              "      <td>0</td>\n",
              "      <td>0</td>\n",
              "      <td>0</td>\n",
              "      <td>0</td>\n",
              "      <td>1</td>\n",
              "      <td>1</td>\n",
              "      <td>0</td>\n",
              "      <td>1</td>\n",
              "      <td>0</td>\n",
              "      <td>1</td>\n",
              "      <td>1</td>\n",
              "      <td>0</td>\n",
              "    </tr>\n",
              "    <tr>\n",
              "      <th>75</th>\n",
              "      <td>1</td>\n",
              "      <td>1</td>\n",
              "      <td>1</td>\n",
              "      <td>1</td>\n",
              "      <td>0</td>\n",
              "      <td>1</td>\n",
              "      <td>0</td>\n",
              "      <td>1</td>\n",
              "      <td>0</td>\n",
              "      <td>1</td>\n",
              "      <td>0</td>\n",
              "      <td>0</td>\n",
              "      <td>0</td>\n",
              "      <td>1</td>\n",
              "      <td>1</td>\n",
              "      <td>0</td>\n",
              "      <td>1</td>\n",
              "      <td>1</td>\n",
              "      <td>1</td>\n",
              "      <td>1</td>\n",
              "      <td>1</td>\n",
              "      <td>0</td>\n",
              "      <td>1</td>\n",
              "      <td>1</td>\n",
              "      <td>0</td>\n",
              "    </tr>\n",
              "  </tbody>\n",
              "</table>\n",
              "</div>"
            ],
            "text/plain": [
              "    Faixa_etaria  Genero  Consumidor_de_cachaca  ...  Umburana   Online  Físico\n",
              "50             2       1                      1  ...          1       1       1\n",
              "85             2       1                      1  ...          0       1       0\n",
              "81             2       1                      1  ...          1       1       1\n",
              "54             1       0                      0  ...          1       1       0\n",
              "75             1       1                      1  ...          1       1       0\n",
              "\n",
              "[5 rows x 25 columns]"
            ]
          },
          "metadata": {
            "tags": []
          },
          "execution_count": 16
        }
      ]
    },
    {
      "cell_type": "code",
      "metadata": {
        "colab": {
          "base_uri": "https://localhost:8080/"
        },
        "id": "6W-CG8o-LbhH",
        "outputId": "775466f3-82d8-44c3-eda3-44b417454f1c"
      },
      "source": [
        "a = sns.catplot(y=\"Clusters\", hue=\"Origem \", kind=\"count\",\n",
        "            palette=\"pastel\", edgecolor=\".7\",\n",
        "            data=df)\n",
        "\n",
        "b = sns.catplot(y=\"Clusters\", hue=\"Umburana \", kind=\"count\",\n",
        "            palette=\"pastel\", edgecolor=\".7\",\n",
        "            data=df)\n",
        "\n",
        "c = sns.catplot(y=\"Clusters\", hue=\"Freijó \", kind=\"count\",\n",
        "            palette=\"pastel\", edgecolor=\".7\",\n",
        "            data=df)\n",
        "\n",
        "d = sns.catplot(y=\"Clusters\", hue=\"Carvalho \", kind=\"count\",\n",
        "            palette=\"pastel\", edgecolor=\".7\",\n",
        "            data=df)"
      ],
      "execution_count": null,
      "outputs": [
        {
          "output_type": "display_data",
          "data": {
            "image/png": "[encoded data removed]",
            "text/plain": [
              "<Figure size 403.375x360 with 1 Axes>"
            ]
          },
          "metadata": {
            "tags": []
          }
        },
        {
          "output_type": "display_data",
          "data": {
            "image/png": "[encoded data removed]",
            "text/plain": [
              "<Figure size 417x360 with 1 Axes>"
            ]
          },
          "metadata": {
            "tags": []
          }
        },
        {
          "output_type": "display_data",
          "data": {
            "image/png": "[encoded data removed]",
            "text/plain": [
              "<Figure size 401.625x360 with 1 Axes>"
            ]
          },
          "metadata": {
            "tags": []
          }
        },
        {
          "output_type": "display_data",
          "data": {
            "image/png": "[encoded data removed]",
            "text/plain": [
              "<Figure size 410.625x360 with 1 Axes>"
            ]
          },
          "metadata": {
            "tags": []
          }
        }
      ]
    },
    {
      "cell_type": "markdown",
      "metadata": {
        "id": "AktdjXhTDSy6"
      },
      "source": [
        "#Recommendation Engine\n",
        "Funciona através da similaridade entre 2 usuarios, então vou o que cada 'user' votou para os tipos de cachaça.\n",
        "Como Ainda não temos nenhum website ativo tivemos que simular as interações dos usuário com os produtos da cachaçaria sanhaçu.\n",
        "Portanto, criamos algumas funcões para gerar mais usuários. Além disso também geramos iterações com usuários de forma aleátoria em 3 eventos:\n",
        "- CLICK com probabilidade de 4/7\n",
        "- ADD2CART com probabilidade de 2/7\n",
        "- BUY com probabilidade de 1/7\n",
        "\n",
        "Escolhemos utilizar o algoritimo Singular Value Decomposition que explicaremos seu funcionamento mais à frente. A sua implementação é feita pela biblioteca scikit-surprise. Devido a limitações da própria biblioteca tivermos que adaptar o nosso dataset de interações de usuário. \n",
        "A scikit-surprise aceita somente 3 colunas por padrão `userID`, `rating`e `itemID`. O atributo `rating` seria nossa adaptação, pois temos sometente iterações e não notas, mas conseguimos adaptar as iterações para virarem notas atribuindo pesoas às interações e atribuindo o valor da média desses pesos para cada item."
      ]
    },
    {
      "cell_type": "code",
      "metadata": {
        "colab": {
          "base_uri": "https://localhost:8080/",
          "height": 258
        },
        "id": "I_fa0rnJIq1L",
        "outputId": "2e548118-78d6-4d93-eedb-ffef9b373dcd"
      },
      "source": [
        "df.head()"
      ],
      "execution_count": null,
      "outputs": [
        {
          "output_type": "execute_result",
          "data": {
            "text/html": [
              "<div>\n",
              "<style scoped>\n",
              "    .dataframe tbody tr th:only-of-type {\n",
              "        vertical-align: middle;\n",
              "    }\n",
              "\n",
              "    .dataframe tbody tr th {\n",
              "        vertical-align: top;\n",
              "    }\n",
              "\n",
              "    .dataframe thead th {\n",
              "        text-align: right;\n",
              "    }\n",
              "</style>\n",
              "<table border=\"1\" class=\"dataframe\">\n",
              "  <thead>\n",
              "    <tr style=\"text-align: right;\">\n",
              "      <th></th>\n",
              "      <th>Faixa_etaria</th>\n",
              "      <th>Genero</th>\n",
              "      <th>Consumidor_de_cachaca</th>\n",
              "      <th>Consumir_cachaca_artesanal</th>\n",
              "      <th>Clusters</th>\n",
              "      <th>Whisky</th>\n",
              "      <th>Rum</th>\n",
              "      <th>Cerveja</th>\n",
              "      <th>nan</th>\n",
              "      <th>Cachaça</th>\n",
              "      <th>Tequila</th>\n",
              "      <th>Vodka</th>\n",
              "      <th>Champanhe</th>\n",
              "      <th>Gim</th>\n",
              "      <th>Boca a Boca</th>\n",
              "      <th>TV</th>\n",
              "      <th>Influenciadores</th>\n",
              "      <th>Propagandas na internet</th>\n",
              "      <th>Redes Socias(Twitter, Instagram)</th>\n",
              "      <th>Freijó</th>\n",
              "      <th>Carvalho</th>\n",
              "      <th>Origem</th>\n",
              "      <th>Umburana</th>\n",
              "      <th>Online</th>\n",
              "      <th>Físico</th>\n",
              "    </tr>\n",
              "  </thead>\n",
              "  <tbody>\n",
              "    <tr>\n",
              "      <th>50</th>\n",
              "      <td>2</td>\n",
              "      <td>1</td>\n",
              "      <td>1</td>\n",
              "      <td>1</td>\n",
              "      <td>0</td>\n",
              "      <td>0</td>\n",
              "      <td>0</td>\n",
              "      <td>1</td>\n",
              "      <td>0</td>\n",
              "      <td>1</td>\n",
              "      <td>0</td>\n",
              "      <td>0</td>\n",
              "      <td>0</td>\n",
              "      <td>0</td>\n",
              "      <td>0</td>\n",
              "      <td>0</td>\n",
              "      <td>1</td>\n",
              "      <td>0</td>\n",
              "      <td>1</td>\n",
              "      <td>0</td>\n",
              "      <td>1</td>\n",
              "      <td>0</td>\n",
              "      <td>1</td>\n",
              "      <td>1</td>\n",
              "      <td>1</td>\n",
              "    </tr>\n",
              "    <tr>\n",
              "      <th>85</th>\n",
              "      <td>2</td>\n",
              "      <td>1</td>\n",
              "      <td>1</td>\n",
              "      <td>1</td>\n",
              "      <td>0</td>\n",
              "      <td>1</td>\n",
              "      <td>0</td>\n",
              "      <td>1</td>\n",
              "      <td>0</td>\n",
              "      <td>1</td>\n",
              "      <td>0</td>\n",
              "      <td>0</td>\n",
              "      <td>1</td>\n",
              "      <td>0</td>\n",
              "      <td>0</td>\n",
              "      <td>0</td>\n",
              "      <td>0</td>\n",
              "      <td>1</td>\n",
              "      <td>1</td>\n",
              "      <td>0</td>\n",
              "      <td>1</td>\n",
              "      <td>0</td>\n",
              "      <td>0</td>\n",
              "      <td>1</td>\n",
              "      <td>0</td>\n",
              "    </tr>\n",
              "    <tr>\n",
              "      <th>81</th>\n",
              "      <td>2</td>\n",
              "      <td>1</td>\n",
              "      <td>1</td>\n",
              "      <td>1</td>\n",
              "      <td>0</td>\n",
              "      <td>0</td>\n",
              "      <td>0</td>\n",
              "      <td>1</td>\n",
              "      <td>0</td>\n",
              "      <td>1</td>\n",
              "      <td>0</td>\n",
              "      <td>0</td>\n",
              "      <td>0</td>\n",
              "      <td>0</td>\n",
              "      <td>0</td>\n",
              "      <td>0</td>\n",
              "      <td>1</td>\n",
              "      <td>0</td>\n",
              "      <td>1</td>\n",
              "      <td>0</td>\n",
              "      <td>1</td>\n",
              "      <td>0</td>\n",
              "      <td>1</td>\n",
              "      <td>1</td>\n",
              "      <td>1</td>\n",
              "    </tr>\n",
              "    <tr>\n",
              "      <th>54</th>\n",
              "      <td>1</td>\n",
              "      <td>0</td>\n",
              "      <td>0</td>\n",
              "      <td>0</td>\n",
              "      <td>0</td>\n",
              "      <td>0</td>\n",
              "      <td>0</td>\n",
              "      <td>1</td>\n",
              "      <td>0</td>\n",
              "      <td>1</td>\n",
              "      <td>1</td>\n",
              "      <td>0</td>\n",
              "      <td>1</td>\n",
              "      <td>0</td>\n",
              "      <td>0</td>\n",
              "      <td>0</td>\n",
              "      <td>0</td>\n",
              "      <td>1</td>\n",
              "      <td>1</td>\n",
              "      <td>0</td>\n",
              "      <td>1</td>\n",
              "      <td>0</td>\n",
              "      <td>1</td>\n",
              "      <td>1</td>\n",
              "      <td>0</td>\n",
              "    </tr>\n",
              "    <tr>\n",
              "      <th>75</th>\n",
              "      <td>1</td>\n",
              "      <td>1</td>\n",
              "      <td>1</td>\n",
              "      <td>1</td>\n",
              "      <td>0</td>\n",
              "      <td>1</td>\n",
              "      <td>0</td>\n",
              "      <td>1</td>\n",
              "      <td>0</td>\n",
              "      <td>1</td>\n",
              "      <td>0</td>\n",
              "      <td>0</td>\n",
              "      <td>0</td>\n",
              "      <td>1</td>\n",
              "      <td>1</td>\n",
              "      <td>0</td>\n",
              "      <td>1</td>\n",
              "      <td>1</td>\n",
              "      <td>1</td>\n",
              "      <td>1</td>\n",
              "      <td>1</td>\n",
              "      <td>0</td>\n",
              "      <td>1</td>\n",
              "      <td>1</td>\n",
              "      <td>0</td>\n",
              "    </tr>\n",
              "  </tbody>\n",
              "</table>\n",
              "</div>"
            ],
            "text/plain": [
              "    Faixa_etaria  Genero  Consumidor_de_cachaca  ...  Umburana   Online  Físico\n",
              "50             2       1                      1  ...          1       1       1\n",
              "85             2       1                      1  ...          0       1       0\n",
              "81             2       1                      1  ...          1       1       1\n",
              "54             1       0                      0  ...          1       1       0\n",
              "75             1       1                      1  ...          1       1       0\n",
              "\n",
              "[5 rows x 25 columns]"
            ]
          },
          "metadata": {
            "tags": []
          },
          "execution_count": 18
        }
      ]
    },
    {
      "cell_type": "code",
      "metadata": {
        "colab": {
          "base_uri": "https://localhost:8080/",
          "height": 204
        },
        "id": "jvEuDdug1a0d",
        "outputId": "fca68d23-fa7d-4d86-96b9-9e432f892659"
      },
      "source": [
        "#Creating dummy interactions dataset\n",
        "df_transformed.drop(columns=['Bebidas_dispostos_a_comprar',\n",
        "                             'Meio_de_divulgacao', 'produtos_sanhacu',\n",
        "                             'Compras_antes_pandemia',\n",
        "                             'Compras_durante_pandemia', 'Faixa_etaria',\n",
        "                             'Genero', 'Consumidor_de_cachaca',\n",
        "                             'Consumir_cachaca_artesanal',\n",
        "                             'Redes Socias(Twitter, Instagram)',\n",
        "                             'Influenciadores', 'Boca a Boca',\n",
        "                             'Propagandas na internet', 'TV'], inplace=True)\n",
        "df_transformed.head()"
      ],
      "execution_count": null,
      "outputs": [
        {
          "output_type": "execute_result",
          "data": {
            "text/html": [
              "<div>\n",
              "<style scoped>\n",
              "    .dataframe tbody tr th:only-of-type {\n",
              "        vertical-align: middle;\n",
              "    }\n",
              "\n",
              "    .dataframe tbody tr th {\n",
              "        vertical-align: top;\n",
              "    }\n",
              "\n",
              "    .dataframe thead th {\n",
              "        text-align: right;\n",
              "    }\n",
              "</style>\n",
              "<table border=\"1\" class=\"dataframe\">\n",
              "  <thead>\n",
              "    <tr style=\"text-align: right;\">\n",
              "      <th></th>\n",
              "      <th>user_id</th>\n",
              "      <th>Clusters</th>\n",
              "      <th>Whisky</th>\n",
              "      <th>Rum</th>\n",
              "      <th>Cerveja</th>\n",
              "      <th>nan</th>\n",
              "      <th>Cachaça</th>\n",
              "      <th>Tequila</th>\n",
              "      <th>Vodka</th>\n",
              "      <th>Champanhe</th>\n",
              "      <th>Gim</th>\n",
              "      <th>Freijó</th>\n",
              "      <th>Carvalho</th>\n",
              "      <th>Origem</th>\n",
              "      <th>Umburana</th>\n",
              "      <th>Online</th>\n",
              "      <th>Físico</th>\n",
              "    </tr>\n",
              "  </thead>\n",
              "  <tbody>\n",
              "    <tr>\n",
              "      <th>50</th>\n",
              "      <td>44</td>\n",
              "      <td>0</td>\n",
              "      <td>0</td>\n",
              "      <td>0</td>\n",
              "      <td>1</td>\n",
              "      <td>0</td>\n",
              "      <td>1</td>\n",
              "      <td>0</td>\n",
              "      <td>0</td>\n",
              "      <td>0</td>\n",
              "      <td>0</td>\n",
              "      <td>0</td>\n",
              "      <td>1</td>\n",
              "      <td>0</td>\n",
              "      <td>1</td>\n",
              "      <td>1</td>\n",
              "      <td>1</td>\n",
              "    </tr>\n",
              "    <tr>\n",
              "      <th>85</th>\n",
              "      <td>75</td>\n",
              "      <td>0</td>\n",
              "      <td>1</td>\n",
              "      <td>0</td>\n",
              "      <td>1</td>\n",
              "      <td>0</td>\n",
              "      <td>1</td>\n",
              "      <td>0</td>\n",
              "      <td>0</td>\n",
              "      <td>1</td>\n",
              "      <td>0</td>\n",
              "      <td>0</td>\n",
              "      <td>1</td>\n",
              "      <td>0</td>\n",
              "      <td>0</td>\n",
              "      <td>1</td>\n",
              "      <td>0</td>\n",
              "    </tr>\n",
              "    <tr>\n",
              "      <th>81</th>\n",
              "      <td>68</td>\n",
              "      <td>0</td>\n",
              "      <td>0</td>\n",
              "      <td>0</td>\n",
              "      <td>1</td>\n",
              "      <td>0</td>\n",
              "      <td>1</td>\n",
              "      <td>0</td>\n",
              "      <td>0</td>\n",
              "      <td>0</td>\n",
              "      <td>0</td>\n",
              "      <td>0</td>\n",
              "      <td>1</td>\n",
              "      <td>0</td>\n",
              "      <td>1</td>\n",
              "      <td>1</td>\n",
              "      <td>1</td>\n",
              "    </tr>\n",
              "    <tr>\n",
              "      <th>54</th>\n",
              "      <td>49</td>\n",
              "      <td>0</td>\n",
              "      <td>0</td>\n",
              "      <td>0</td>\n",
              "      <td>1</td>\n",
              "      <td>0</td>\n",
              "      <td>1</td>\n",
              "      <td>1</td>\n",
              "      <td>0</td>\n",
              "      <td>1</td>\n",
              "      <td>0</td>\n",
              "      <td>0</td>\n",
              "      <td>1</td>\n",
              "      <td>0</td>\n",
              "      <td>1</td>\n",
              "      <td>1</td>\n",
              "      <td>0</td>\n",
              "    </tr>\n",
              "    <tr>\n",
              "      <th>75</th>\n",
              "      <td>59</td>\n",
              "      <td>0</td>\n",
              "      <td>1</td>\n",
              "      <td>0</td>\n",
              "      <td>1</td>\n",
              "      <td>0</td>\n",
              "      <td>1</td>\n",
              "      <td>0</td>\n",
              "      <td>0</td>\n",
              "      <td>0</td>\n",
              "      <td>1</td>\n",
              "      <td>1</td>\n",
              "      <td>1</td>\n",
              "      <td>0</td>\n",
              "      <td>1</td>\n",
              "      <td>1</td>\n",
              "      <td>0</td>\n",
              "    </tr>\n",
              "  </tbody>\n",
              "</table>\n",
              "</div>"
            ],
            "text/plain": [
              "    user_id  Clusters  Whisky  Rum  ...  Origem   Umburana   Online  Físico\n",
              "50       44         0       0    0  ...        0          1       1       1\n",
              "85       75         0       1    0  ...        0          0       1       0\n",
              "81       68         0       0    0  ...        0          1       1       1\n",
              "54       49         0       0    0  ...        0          1       1       0\n",
              "75       59         0       1    0  ...        0          1       1       0\n",
              "\n",
              "[5 rows x 17 columns]"
            ]
          },
          "metadata": {
            "tags": []
          },
          "execution_count": 19
        }
      ]
    },
    {
      "cell_type": "code",
      "metadata": {
        "colab": {
          "base_uri": "https://localhost:8080/",
          "height": 204
        },
        "id": "ckA8XKI-7WH2",
        "outputId": "dc211576-2474-4161-aa78-b032e1b8b610"
      },
      "source": [
        "df_interactions = df_transformed[['user_id', 'Umburana ', 'Origem ', 'Freijó ', 'Carvalho ']]\n",
        "df_interactions.head()"
      ],
      "execution_count": null,
      "outputs": [
        {
          "output_type": "execute_result",
          "data": {
            "text/html": [
              "<div>\n",
              "<style scoped>\n",
              "    .dataframe tbody tr th:only-of-type {\n",
              "        vertical-align: middle;\n",
              "    }\n",
              "\n",
              "    .dataframe tbody tr th {\n",
              "        vertical-align: top;\n",
              "    }\n",
              "\n",
              "    .dataframe thead th {\n",
              "        text-align: right;\n",
              "    }\n",
              "</style>\n",
              "<table border=\"1\" class=\"dataframe\">\n",
              "  <thead>\n",
              "    <tr style=\"text-align: right;\">\n",
              "      <th></th>\n",
              "      <th>user_id</th>\n",
              "      <th>Umburana</th>\n",
              "      <th>Origem</th>\n",
              "      <th>Freijó</th>\n",
              "      <th>Carvalho</th>\n",
              "    </tr>\n",
              "  </thead>\n",
              "  <tbody>\n",
              "    <tr>\n",
              "      <th>50</th>\n",
              "      <td>44</td>\n",
              "      <td>1</td>\n",
              "      <td>0</td>\n",
              "      <td>0</td>\n",
              "      <td>1</td>\n",
              "    </tr>\n",
              "    <tr>\n",
              "      <th>85</th>\n",
              "      <td>75</td>\n",
              "      <td>0</td>\n",
              "      <td>0</td>\n",
              "      <td>0</td>\n",
              "      <td>1</td>\n",
              "    </tr>\n",
              "    <tr>\n",
              "      <th>81</th>\n",
              "      <td>68</td>\n",
              "      <td>1</td>\n",
              "      <td>0</td>\n",
              "      <td>0</td>\n",
              "      <td>1</td>\n",
              "    </tr>\n",
              "    <tr>\n",
              "      <th>54</th>\n",
              "      <td>49</td>\n",
              "      <td>1</td>\n",
              "      <td>0</td>\n",
              "      <td>0</td>\n",
              "      <td>1</td>\n",
              "    </tr>\n",
              "    <tr>\n",
              "      <th>75</th>\n",
              "      <td>59</td>\n",
              "      <td>1</td>\n",
              "      <td>0</td>\n",
              "      <td>1</td>\n",
              "      <td>1</td>\n",
              "    </tr>\n",
              "  </tbody>\n",
              "</table>\n",
              "</div>"
            ],
            "text/plain": [
              "    user_id  Umburana   Origem   Freijó   Carvalho \n",
              "50       44          1        0        0          1\n",
              "85       75          0        0        0          1\n",
              "81       68          1        0        0          1\n",
              "54       49          1        0        0          1\n",
              "75       59          1        0        1          1"
            ]
          },
          "metadata": {
            "tags": []
          },
          "execution_count": 20
        }
      ]
    },
    {
      "cell_type": "code",
      "metadata": {
        "id": "pyx81hH7wVbc"
      },
      "source": [
        "def get_more_users(df):\n",
        "    for new_user in range(2000):\n",
        "        df = df.append({\n",
        "            'user_id': max(df['user_id']) + 1,\n",
        "            'Umburana ': random.choice([0, 1]),\n",
        "            'Origem ': random.choice([0, 1]),\n",
        "            'Freijó ': random.choice([0, 1]),\n",
        "            'Carvalho ': random.choice([0, 1])\n",
        "        }, ignore_index=True)\n",
        "    return df"
      ],
      "execution_count": null,
      "outputs": []
    },
    {
      "cell_type": "code",
      "metadata": {
        "colab": {
          "base_uri": "https://localhost:8080/",
          "height": 419
        },
        "id": "JWSv6ywUzXJU",
        "outputId": "fb923bc7-eb12-4043-dd57-194bcb468e2f"
      },
      "source": [
        "df_interactions = get_more_users(df_interactions)\n",
        "df_interactions"
      ],
      "execution_count": null,
      "outputs": [
        {
          "output_type": "execute_result",
          "data": {
            "text/html": [
              "<div>\n",
              "<style scoped>\n",
              "    .dataframe tbody tr th:only-of-type {\n",
              "        vertical-align: middle;\n",
              "    }\n",
              "\n",
              "    .dataframe tbody tr th {\n",
              "        vertical-align: top;\n",
              "    }\n",
              "\n",
              "    .dataframe thead th {\n",
              "        text-align: right;\n",
              "    }\n",
              "</style>\n",
              "<table border=\"1\" class=\"dataframe\">\n",
              "  <thead>\n",
              "    <tr style=\"text-align: right;\">\n",
              "      <th></th>\n",
              "      <th>user_id</th>\n",
              "      <th>Umburana</th>\n",
              "      <th>Origem</th>\n",
              "      <th>Freijó</th>\n",
              "      <th>Carvalho</th>\n",
              "    </tr>\n",
              "  </thead>\n",
              "  <tbody>\n",
              "    <tr>\n",
              "      <th>0</th>\n",
              "      <td>44</td>\n",
              "      <td>1</td>\n",
              "      <td>0</td>\n",
              "      <td>0</td>\n",
              "      <td>1</td>\n",
              "    </tr>\n",
              "    <tr>\n",
              "      <th>1</th>\n",
              "      <td>75</td>\n",
              "      <td>0</td>\n",
              "      <td>0</td>\n",
              "      <td>0</td>\n",
              "      <td>1</td>\n",
              "    </tr>\n",
              "    <tr>\n",
              "      <th>2</th>\n",
              "      <td>68</td>\n",
              "      <td>1</td>\n",
              "      <td>0</td>\n",
              "      <td>0</td>\n",
              "      <td>1</td>\n",
              "    </tr>\n",
              "    <tr>\n",
              "      <th>3</th>\n",
              "      <td>49</td>\n",
              "      <td>1</td>\n",
              "      <td>0</td>\n",
              "      <td>0</td>\n",
              "      <td>1</td>\n",
              "    </tr>\n",
              "    <tr>\n",
              "      <th>4</th>\n",
              "      <td>59</td>\n",
              "      <td>1</td>\n",
              "      <td>0</td>\n",
              "      <td>1</td>\n",
              "      <td>1</td>\n",
              "    </tr>\n",
              "    <tr>\n",
              "      <th>...</th>\n",
              "      <td>...</td>\n",
              "      <td>...</td>\n",
              "      <td>...</td>\n",
              "      <td>...</td>\n",
              "      <td>...</td>\n",
              "    </tr>\n",
              "    <tr>\n",
              "      <th>2096</th>\n",
              "      <td>2095</td>\n",
              "      <td>1</td>\n",
              "      <td>0</td>\n",
              "      <td>1</td>\n",
              "      <td>0</td>\n",
              "    </tr>\n",
              "    <tr>\n",
              "      <th>2097</th>\n",
              "      <td>2096</td>\n",
              "      <td>1</td>\n",
              "      <td>0</td>\n",
              "      <td>0</td>\n",
              "      <td>0</td>\n",
              "    </tr>\n",
              "    <tr>\n",
              "      <th>2098</th>\n",
              "      <td>2097</td>\n",
              "      <td>1</td>\n",
              "      <td>1</td>\n",
              "      <td>0</td>\n",
              "      <td>0</td>\n",
              "    </tr>\n",
              "    <tr>\n",
              "      <th>2099</th>\n",
              "      <td>2098</td>\n",
              "      <td>0</td>\n",
              "      <td>0</td>\n",
              "      <td>1</td>\n",
              "      <td>0</td>\n",
              "    </tr>\n",
              "    <tr>\n",
              "      <th>2100</th>\n",
              "      <td>2099</td>\n",
              "      <td>0</td>\n",
              "      <td>1</td>\n",
              "      <td>0</td>\n",
              "      <td>1</td>\n",
              "    </tr>\n",
              "  </tbody>\n",
              "</table>\n",
              "<p>2101 rows × 5 columns</p>\n",
              "</div>"
            ],
            "text/plain": [
              "      user_id  Umburana   Origem   Freijó   Carvalho \n",
              "0          44          1        0        0          1\n",
              "1          75          0        0        0          1\n",
              "2          68          1        0        0          1\n",
              "3          49          1        0        0          1\n",
              "4          59          1        0        1          1\n",
              "...       ...        ...      ...      ...        ...\n",
              "2096     2095          1        0        1          0\n",
              "2097     2096          1        0        0          0\n",
              "2098     2097          1        1        0          0\n",
              "2099     2098          0        0        1          0\n",
              "2100     2099          0        1        0          1\n",
              "\n",
              "[2101 rows x 5 columns]"
            ]
          },
          "metadata": {
            "tags": []
          },
          "execution_count": 22
        }
      ]
    },
    {
      "cell_type": "code",
      "metadata": {
        "id": "jonKyLp9Ayy_"
      },
      "source": [
        "def interaction_generator(df):\n",
        "    \"\"\"Create a fake interaction dataset.\"\"\" \n",
        "    interactions = [\"CLICK\", \"CLICK\", \"BUY\", \"CLICK\", \"ADD2CART\", \"CLICK\", \"ADD2CART\"]\n",
        "    column = ['USER_ID', 'EVENT_TYPE', 'ITEM_ID']\n",
        "    df_new = pd.DataFrame(columns=column)\n",
        "\n",
        "    for index, row in df.iterrows():\n",
        "        num_inter = random.randint(1,7)\n",
        "        names = ['Umburana ', 'Origem ','Freijó ', 'Carvalho ']\n",
        "        products = dict(zip(names, row[['Umburana ', 'Origem ','Freijó ', 'Carvalho ']]))\n",
        "\n",
        "        for product in products:\n",
        "            for i in range(num_inter):\n",
        "                if products[product] == 1:\n",
        "                    interaction = random.sample(interactions, 1)\n",
        "                    new_row = pd.DataFrame({'USER_ID': row['user_id'],\n",
        "                            'EVENT_TYPE': interaction,\n",
        "                            'ITEM_ID': product})\n",
        "                    df_new = df_new.append(new_row, ignore_index=True)\n",
        "\n",
        "    return df_new"
      ],
      "execution_count": null,
      "outputs": []
    },
    {
      "cell_type": "code",
      "metadata": {
        "colab": {
          "base_uri": "https://localhost:8080/",
          "height": 419
        },
        "id": "ru8Lcpb0FlRB",
        "outputId": "2b8406f7-0daa-4ed3-db1f-6533a3df79d2"
      },
      "source": [
        "df_interactions = interaction_generator(df_interactions)\n",
        "df_interactions = df_interactions.sample(frac=1).reset_index(drop=True)\n",
        "df_interactions"
      ],
      "execution_count": null,
      "outputs": [
        {
          "output_type": "execute_result",
          "data": {
            "text/html": [
              "<div>\n",
              "<style scoped>\n",
              "    .dataframe tbody tr th:only-of-type {\n",
              "        vertical-align: middle;\n",
              "    }\n",
              "\n",
              "    .dataframe tbody tr th {\n",
              "        vertical-align: top;\n",
              "    }\n",
              "\n",
              "    .dataframe thead th {\n",
              "        text-align: right;\n",
              "    }\n",
              "</style>\n",
              "<table border=\"1\" class=\"dataframe\">\n",
              "  <thead>\n",
              "    <tr style=\"text-align: right;\">\n",
              "      <th></th>\n",
              "      <th>USER_ID</th>\n",
              "      <th>EVENT_TYPE</th>\n",
              "      <th>ITEM_ID</th>\n",
              "    </tr>\n",
              "  </thead>\n",
              "  <tbody>\n",
              "    <tr>\n",
              "      <th>0</th>\n",
              "      <td>324</td>\n",
              "      <td>CLICK</td>\n",
              "      <td>Umburana</td>\n",
              "    </tr>\n",
              "    <tr>\n",
              "      <th>1</th>\n",
              "      <td>1802</td>\n",
              "      <td>CLICK</td>\n",
              "      <td>Carvalho</td>\n",
              "    </tr>\n",
              "    <tr>\n",
              "      <th>2</th>\n",
              "      <td>405</td>\n",
              "      <td>CLICK</td>\n",
              "      <td>Freijó</td>\n",
              "    </tr>\n",
              "    <tr>\n",
              "      <th>3</th>\n",
              "      <td>1026</td>\n",
              "      <td>ADD2CART</td>\n",
              "      <td>Umburana</td>\n",
              "    </tr>\n",
              "    <tr>\n",
              "      <th>4</th>\n",
              "      <td>1853</td>\n",
              "      <td>BUY</td>\n",
              "      <td>Origem</td>\n",
              "    </tr>\n",
              "    <tr>\n",
              "      <th>...</th>\n",
              "      <td>...</td>\n",
              "      <td>...</td>\n",
              "      <td>...</td>\n",
              "    </tr>\n",
              "    <tr>\n",
              "      <th>16390</th>\n",
              "      <td>795</td>\n",
              "      <td>ADD2CART</td>\n",
              "      <td>Origem</td>\n",
              "    </tr>\n",
              "    <tr>\n",
              "      <th>16391</th>\n",
              "      <td>668</td>\n",
              "      <td>BUY</td>\n",
              "      <td>Origem</td>\n",
              "    </tr>\n",
              "    <tr>\n",
              "      <th>16392</th>\n",
              "      <td>1033</td>\n",
              "      <td>CLICK</td>\n",
              "      <td>Origem</td>\n",
              "    </tr>\n",
              "    <tr>\n",
              "      <th>16393</th>\n",
              "      <td>377</td>\n",
              "      <td>CLICK</td>\n",
              "      <td>Freijó</td>\n",
              "    </tr>\n",
              "    <tr>\n",
              "      <th>16394</th>\n",
              "      <td>1762</td>\n",
              "      <td>CLICK</td>\n",
              "      <td>Carvalho</td>\n",
              "    </tr>\n",
              "  </tbody>\n",
              "</table>\n",
              "<p>16395 rows × 3 columns</p>\n",
              "</div>"
            ],
            "text/plain": [
              "      USER_ID EVENT_TYPE    ITEM_ID\n",
              "0         324      CLICK  Umburana \n",
              "1        1802      CLICK  Carvalho \n",
              "2         405      CLICK    Freijó \n",
              "3        1026   ADD2CART  Umburana \n",
              "4        1853        BUY    Origem \n",
              "...       ...        ...        ...\n",
              "16390     795   ADD2CART    Origem \n",
              "16391     668        BUY    Origem \n",
              "16392    1033      CLICK    Origem \n",
              "16393     377      CLICK    Freijó \n",
              "16394    1762      CLICK  Carvalho \n",
              "\n",
              "[16395 rows x 3 columns]"
            ]
          },
          "metadata": {
            "tags": []
          },
          "execution_count": 24
        }
      ]
    },
    {
      "cell_type": "code",
      "metadata": {
        "colab": {
          "base_uri": "https://localhost:8080/",
          "height": 204
        },
        "id": "b7mHcrmrI4Iq",
        "outputId": "a0035bc1-9157-4855-f91c-14091396c3a0"
      },
      "source": [
        "fake_ratings = \\\n",
        "{\n",
        "'CLICK': 1,\n",
        "'ADD2CART': 2,\n",
        "'BUY': 5\n",
        "}\n",
        "\n",
        "df_interactions[\"USER_ID\"] = pd.to_numeric(df_interactions[\"USER_ID\"])\n",
        "df_interactions[\"EVENT_TYPE\"] = df_interactions[\"EVENT_TYPE\"].map(fake_ratings)\n",
        "df_interactions[\"ITEM_ID\"] = label_encoder.fit_transform(df_interactions[\"ITEM_ID\"])\n",
        "df_interactions.head()"
      ],
      "execution_count": null,
      "outputs": [
        {
          "output_type": "execute_result",
          "data": {
            "text/html": [
              "<div>\n",
              "<style scoped>\n",
              "    .dataframe tbody tr th:only-of-type {\n",
              "        vertical-align: middle;\n",
              "    }\n",
              "\n",
              "    .dataframe tbody tr th {\n",
              "        vertical-align: top;\n",
              "    }\n",
              "\n",
              "    .dataframe thead th {\n",
              "        text-align: right;\n",
              "    }\n",
              "</style>\n",
              "<table border=\"1\" class=\"dataframe\">\n",
              "  <thead>\n",
              "    <tr style=\"text-align: right;\">\n",
              "      <th></th>\n",
              "      <th>USER_ID</th>\n",
              "      <th>EVENT_TYPE</th>\n",
              "      <th>ITEM_ID</th>\n",
              "    </tr>\n",
              "  </thead>\n",
              "  <tbody>\n",
              "    <tr>\n",
              "      <th>0</th>\n",
              "      <td>324</td>\n",
              "      <td>1</td>\n",
              "      <td>3</td>\n",
              "    </tr>\n",
              "    <tr>\n",
              "      <th>1</th>\n",
              "      <td>1802</td>\n",
              "      <td>1</td>\n",
              "      <td>0</td>\n",
              "    </tr>\n",
              "    <tr>\n",
              "      <th>2</th>\n",
              "      <td>405</td>\n",
              "      <td>1</td>\n",
              "      <td>1</td>\n",
              "    </tr>\n",
              "    <tr>\n",
              "      <th>3</th>\n",
              "      <td>1026</td>\n",
              "      <td>2</td>\n",
              "      <td>3</td>\n",
              "    </tr>\n",
              "    <tr>\n",
              "      <th>4</th>\n",
              "      <td>1853</td>\n",
              "      <td>5</td>\n",
              "      <td>2</td>\n",
              "    </tr>\n",
              "  </tbody>\n",
              "</table>\n",
              "</div>"
            ],
            "text/plain": [
              "   USER_ID  EVENT_TYPE  ITEM_ID\n",
              "0      324           1        3\n",
              "1     1802           1        0\n",
              "2      405           1        1\n",
              "3     1026           2        3\n",
              "4     1853           5        2"
            ]
          },
          "metadata": {
            "tags": []
          },
          "execution_count": 25
        }
      ]
    },
    {
      "cell_type": "code",
      "metadata": {
        "colab": {
          "base_uri": "https://localhost:8080/",
          "height": 419
        },
        "id": "rVz1-FnNF6Q5",
        "outputId": "c62347fa-1635-46fc-ee87-7c5a2c70d847"
      },
      "source": [
        "df_ratings = df_interactions.copy()\n",
        "df_ratings.columns = ['userID', 'rating','itemID']\n",
        "df_ratings"
      ],
      "execution_count": null,
      "outputs": [
        {
          "output_type": "execute_result",
          "data": {
            "text/html": [
              "<div>\n",
              "<style scoped>\n",
              "    .dataframe tbody tr th:only-of-type {\n",
              "        vertical-align: middle;\n",
              "    }\n",
              "\n",
              "    .dataframe tbody tr th {\n",
              "        vertical-align: top;\n",
              "    }\n",
              "\n",
              "    .dataframe thead th {\n",
              "        text-align: right;\n",
              "    }\n",
              "</style>\n",
              "<table border=\"1\" class=\"dataframe\">\n",
              "  <thead>\n",
              "    <tr style=\"text-align: right;\">\n",
              "      <th></th>\n",
              "      <th>userID</th>\n",
              "      <th>rating</th>\n",
              "      <th>itemID</th>\n",
              "    </tr>\n",
              "  </thead>\n",
              "  <tbody>\n",
              "    <tr>\n",
              "      <th>0</th>\n",
              "      <td>324</td>\n",
              "      <td>1</td>\n",
              "      <td>3</td>\n",
              "    </tr>\n",
              "    <tr>\n",
              "      <th>1</th>\n",
              "      <td>1802</td>\n",
              "      <td>1</td>\n",
              "      <td>0</td>\n",
              "    </tr>\n",
              "    <tr>\n",
              "      <th>2</th>\n",
              "      <td>405</td>\n",
              "      <td>1</td>\n",
              "      <td>1</td>\n",
              "    </tr>\n",
              "    <tr>\n",
              "      <th>3</th>\n",
              "      <td>1026</td>\n",
              "      <td>2</td>\n",
              "      <td>3</td>\n",
              "    </tr>\n",
              "    <tr>\n",
              "      <th>4</th>\n",
              "      <td>1853</td>\n",
              "      <td>5</td>\n",
              "      <td>2</td>\n",
              "    </tr>\n",
              "    <tr>\n",
              "      <th>...</th>\n",
              "      <td>...</td>\n",
              "      <td>...</td>\n",
              "      <td>...</td>\n",
              "    </tr>\n",
              "    <tr>\n",
              "      <th>16390</th>\n",
              "      <td>795</td>\n",
              "      <td>2</td>\n",
              "      <td>2</td>\n",
              "    </tr>\n",
              "    <tr>\n",
              "      <th>16391</th>\n",
              "      <td>668</td>\n",
              "      <td>5</td>\n",
              "      <td>2</td>\n",
              "    </tr>\n",
              "    <tr>\n",
              "      <th>16392</th>\n",
              "      <td>1033</td>\n",
              "      <td>1</td>\n",
              "      <td>2</td>\n",
              "    </tr>\n",
              "    <tr>\n",
              "      <th>16393</th>\n",
              "      <td>377</td>\n",
              "      <td>1</td>\n",
              "      <td>1</td>\n",
              "    </tr>\n",
              "    <tr>\n",
              "      <th>16394</th>\n",
              "      <td>1762</td>\n",
              "      <td>1</td>\n",
              "      <td>0</td>\n",
              "    </tr>\n",
              "  </tbody>\n",
              "</table>\n",
              "<p>16395 rows × 3 columns</p>\n",
              "</div>"
            ],
            "text/plain": [
              "       userID  rating  itemID\n",
              "0         324       1       3\n",
              "1        1802       1       0\n",
              "2         405       1       1\n",
              "3        1026       2       3\n",
              "4        1853       5       2\n",
              "...       ...     ...     ...\n",
              "16390     795       2       2\n",
              "16391     668       5       2\n",
              "16392    1033       1       2\n",
              "16393     377       1       1\n",
              "16394    1762       1       0\n",
              "\n",
              "[16395 rows x 3 columns]"
            ]
          },
          "metadata": {
            "tags": []
          },
          "execution_count": 26
        }
      ]
    },
    {
      "cell_type": "code",
      "metadata": {
        "colab": {
          "base_uri": "https://localhost:8080/",
          "height": 419
        },
        "id": "r7qSFZZTfpWB",
        "outputId": "0c4e4f40-7127-475b-c9ae-a081b0d03a9f"
      },
      "source": [
        "df_ratings = df_ratings.groupby(['userID','itemID']).mean().reset_index()\n",
        "df_ratings"
      ],
      "execution_count": null,
      "outputs": [
        {
          "output_type": "execute_result",
          "data": {
            "text/html": [
              "<div>\n",
              "<style scoped>\n",
              "    .dataframe tbody tr th:only-of-type {\n",
              "        vertical-align: middle;\n",
              "    }\n",
              "\n",
              "    .dataframe tbody tr th {\n",
              "        vertical-align: top;\n",
              "    }\n",
              "\n",
              "    .dataframe thead th {\n",
              "        text-align: right;\n",
              "    }\n",
              "</style>\n",
              "<table border=\"1\" class=\"dataframe\">\n",
              "  <thead>\n",
              "    <tr style=\"text-align: right;\">\n",
              "      <th></th>\n",
              "      <th>userID</th>\n",
              "      <th>itemID</th>\n",
              "      <th>rating</th>\n",
              "    </tr>\n",
              "  </thead>\n",
              "  <tbody>\n",
              "    <tr>\n",
              "      <th>0</th>\n",
              "      <td>0</td>\n",
              "      <td>0</td>\n",
              "      <td>2.333333</td>\n",
              "    </tr>\n",
              "    <tr>\n",
              "      <th>1</th>\n",
              "      <td>0</td>\n",
              "      <td>1</td>\n",
              "      <td>1.500000</td>\n",
              "    </tr>\n",
              "    <tr>\n",
              "      <th>2</th>\n",
              "      <td>0</td>\n",
              "      <td>2</td>\n",
              "      <td>1.500000</td>\n",
              "    </tr>\n",
              "    <tr>\n",
              "      <th>3</th>\n",
              "      <td>0</td>\n",
              "      <td>3</td>\n",
              "      <td>1.666667</td>\n",
              "    </tr>\n",
              "    <tr>\n",
              "      <th>4</th>\n",
              "      <td>1</td>\n",
              "      <td>0</td>\n",
              "      <td>1.333333</td>\n",
              "    </tr>\n",
              "    <tr>\n",
              "      <th>...</th>\n",
              "      <td>...</td>\n",
              "      <td>...</td>\n",
              "      <td>...</td>\n",
              "    </tr>\n",
              "    <tr>\n",
              "      <th>4106</th>\n",
              "      <td>2097</td>\n",
              "      <td>2</td>\n",
              "      <td>1.714286</td>\n",
              "    </tr>\n",
              "    <tr>\n",
              "      <th>4107</th>\n",
              "      <td>2097</td>\n",
              "      <td>3</td>\n",
              "      <td>2.571429</td>\n",
              "    </tr>\n",
              "    <tr>\n",
              "      <th>4108</th>\n",
              "      <td>2098</td>\n",
              "      <td>1</td>\n",
              "      <td>1.500000</td>\n",
              "    </tr>\n",
              "    <tr>\n",
              "      <th>4109</th>\n",
              "      <td>2099</td>\n",
              "      <td>0</td>\n",
              "      <td>2.000000</td>\n",
              "    </tr>\n",
              "    <tr>\n",
              "      <th>4110</th>\n",
              "      <td>2099</td>\n",
              "      <td>2</td>\n",
              "      <td>2.000000</td>\n",
              "    </tr>\n",
              "  </tbody>\n",
              "</table>\n",
              "<p>4111 rows × 3 columns</p>\n",
              "</div>"
            ],
            "text/plain": [
              "      userID  itemID    rating\n",
              "0          0       0  2.333333\n",
              "1          0       1  1.500000\n",
              "2          0       2  1.500000\n",
              "3          0       3  1.666667\n",
              "4          1       0  1.333333\n",
              "...      ...     ...       ...\n",
              "4106    2097       2  1.714286\n",
              "4107    2097       3  2.571429\n",
              "4108    2098       1  1.500000\n",
              "4109    2099       0  2.000000\n",
              "4110    2099       2  2.000000\n",
              "\n",
              "[4111 rows x 3 columns]"
            ]
          },
          "metadata": {
            "tags": []
          },
          "execution_count": 27
        }
      ]
    },
    {
      "cell_type": "code",
      "metadata": {
        "colab": {
          "base_uri": "https://localhost:8080/"
        },
        "id": "qGvF8VZSNNxe",
        "outputId": "3d3a39d7-820e-44c3-a99f-35e5ea0ffe5f"
      },
      "source": [
        "!pip install scikit-surprise"
      ],
      "execution_count": null,
      "outputs": [
        {
          "output_type": "stream",
          "text": [
            "Collecting scikit-surprise\n",
            "\u001b[?25l  Downloading https://files.pythonhosted.org/packages/97/37/5d334adaf5ddd65da99fc65f6507e0e4599d092ba048f4302fe8775619e8/scikit-surprise-1.1.1.tar.gz (11.8MB)\n",
            "\u001b[K     |████████████████████████████████| 11.8MB 240kB/s \n",
            "\u001b[?25hRequirement already satisfied: joblib>=0.11 in /usr/local/lib/python3.7/dist-packages (from scikit-surprise) (1.0.1)\n",
            "Requirement already satisfied: numpy>=1.11.2 in /usr/local/lib/python3.7/dist-packages (from scikit-surprise) (1.19.5)\n",
            "Requirement already satisfied: scipy>=1.0.0 in /usr/local/lib/python3.7/dist-packages (from scikit-surprise) (1.4.1)\n",
            "Requirement already satisfied: six>=1.10.0 in /usr/local/lib/python3.7/dist-packages (from scikit-surprise) (1.15.0)\n",
            "Building wheels for collected packages: scikit-surprise\n",
            "  Building wheel for scikit-surprise (setup.py) ... \u001b[?25l\u001b[?25hdone\n",
            "  Created wheel for scikit-surprise: filename=scikit_surprise-1.1.1-cp37-cp37m-linux_x86_64.whl size=1617678 sha256=caf5488630f098495d92033d194c2f390c54b226ba155a04be66f5e721e06877\n",
            "  Stored in directory: /root/.cache/pip/wheels/78/9c/3d/41b419c9d2aff5b6e2b4c0fc8d25c538202834058f9ed110d0\n",
            "Successfully built scikit-surprise\n",
            "Installing collected packages: scikit-surprise\n",
            "Successfully installed scikit-surprise-1.1.1\n"
          ],
          "name": "stdout"
        }
      ]
    },
    {
      "cell_type": "markdown",
      "metadata": {
        "id": "xX_42xaYEbbT"
      },
      "source": [
        "## Singular Value Decomposition\n",
        "\n",
        "O algoritmo de SVD é um método baseado em decomposição em matrizes que performa muito bem para soluções de recomendação utilizando colaborative filtering. Em uma breve explicação, podemos estimar o valor que um usuário irá dar para um determinado item de acordo com o comportamendo de usuário que tem gostos semelhantes.\n",
        "Para isso utilizamos uma decomposição de matrizes, onde separamos uma matriz para usuários e outra para items. A partir disso, utilizamos as duas matrizes decompostas para aproximar cada vez mais da matriz real e diminuir o erro. Quando isso é atingido podemos estimar os valores em branco pela a matriz decomposta\n",
        "\n",
        "Ex:\n",
        "\n",
        "Temos a seguinte matris onde 4 usuários tem sua preferencia para cada item que seriam as linhas da tabela\n",
        "\n",
        "|USR1 | USR2  | USR3  | USR4\n",
        "|---|---|---|---|\n",
        "|  X |  X | 3  |  3 |\n",
        "|  2 |  X |  1 |  X |\n",
        "|  1 |  5 |  5 |  1 |\n",
        "\n",
        "\\\\\n",
        "A partir dai iremos decompor a matriz em 2 matrizes 1 de usuários e outra de items\n",
        "\n",
        "\\\n",
        "\n",
        "|FEATURE USR|USR1 | USR2  | USR3  | USR4\n",
        "|---|---|---|---|---|\n",
        "|F1 |0.9 | 0.11  | 1  | 1.14\n",
        "|F2 |0.14 | 0.3  | 0  | 2.06\n",
        "\n",
        "\\\n",
        "\n",
        "|FEATURE ITEM| 024 | 171  | 009 |\n",
        "|---|---|---|---|\n",
        "|F1 |0.7 | 0.11  | 0  |\n",
        "|F2 |0.5 | 0.9  | 3  |\n",
        "\n",
        "\\\n",
        "\n",
        "|ITEM |USR1 | USR2  | USR3  | USR4\n",
        "|---|---|---|---|---|\n",
        "|024|  X |  X | 3  |  3 |\n",
        "|171|  2 |  X |  1 |  X |\n",
        "|009|  1 |  5 |  5 |  1 |\n",
        "\n",
        "\\\n",
        "\n",
        "Note que as com as matrizes decompotas foram gerados valores aleatórios que são representados como features, nesse caso utilizaremos 2.\n",
        "Agora tentaremos aproximar ao máximo os valores reais da tabela utilizando as features, nesse caso iremos aplicar para o USR1 e ITEM 171.\n",
        "Para esse valores temos (ITEM-F1 * ITEM-F2) + (USR-F1 * USR-F2) -> (1 * 0.9) + (0.9 * 0.14) = 1.026.\n",
        "\n",
        "O USR tem um score real de 2 para o ITEM 171 então precisamos aumentar esse valor das features levemente até chegarmos a um valor optimo. E isso é feito por diante para cada termo da matriz.\n",
        "\n",
        "Porém essa decisão de aumentar ou diminuir as features não são feitas de forma aleatória, para isso precisamos de utilizar uma Função de erro. Com base nisso podemos utilizar o método de gradiente descente para encontrar esse valor optimo das features.\n",
        "\n",
        "\\\n",
        "\n",
        "|FEATURE USR|USR1 | USR2  | USR3  | USR4\n",
        "|---|---|---|---|---|\n",
        "|F1 |0.9 | 0.11  | 1  | 1.14\n",
        "|F2 |0.14 | 0.3  | 0  | 2.06\n",
        "\n",
        "\\\n",
        "\n",
        "|FEATURE ITEM| 024 | 171  | 009 |\n",
        "|---|---|---|---|\n",
        "|F1 |0.9 | 0.9  | 1  |\n",
        "|F2 |0.14 | 1  | 0  |\n",
        "\n",
        "\\\n",
        "\n",
        "|ITEM |USR1 | USR2  | USR3  | USR4\n",
        "|---|---|---|---|---|\n",
        "|024|  X |  X | 3  |  3 |\n",
        "|171|  2 |  X |  1 |  X |\n",
        "|009|  1 |  5 |  5 |  1 |\n",
        "\n",
        "\\"
      ]
    },
    {
      "cell_type": "code",
      "metadata": {
        "id": "BcvN253kDhmR"
      },
      "source": [
        "import pprint\n",
        "from surprise import SVD\n",
        "from surprise import Dataset\n",
        "from surprise import Reader\n",
        "from surprise.model_selection import train_test_split, GridSearchCV\n",
        "from surprise import accuracy"
      ],
      "execution_count": null,
      "outputs": []
    },
    {
      "cell_type": "code",
      "metadata": {
        "colab": {
          "background_save": true,
          "base_uri": "https://localhost:8080/"
        },
        "id": "KVZbAUhAXjmT",
        "outputId": "33b78678-1240-44b8-c732-c58699e88980"
      },
      "source": [
        "reader = Reader(rating_scale=(1, 5), line_format=\"user rating item\")\n",
        "data = Dataset.load_from_df(df_ratings, reader)\n",
        "trainset, testset = train_test_split(data, test_size=.25)\n",
        "\n",
        "param_grid = {'n_epochs': [20, 30, 40, 50, 60, 70, 80],\n",
        "              'lr_all': [0.001, 0.002, 0.005, 0.01],\n",
        "              'reg_all': [0.02, 0.04, 0.06, 0.1, 0.14]}\n",
        "gs = GridSearchCV(SVD, param_grid, measures=['rmse'], cv=10)\n",
        "\n",
        "gs.fit(data)\n",
        "\n",
        "print(gs.best_score['rmse'])\n",
        "print(gs.best_params['rmse'])"
      ],
      "execution_count": null,
      "outputs": [
        {
          "output_type": "stream",
          "text": [
            "0.8239683454335586\n",
            "{'n_epochs': 20, 'lr_all': 0.001, 'reg_all': 0.1}\n"
          ],
          "name": "stdout"
        }
      ]
    },
    {
      "cell_type": "code",
      "metadata": {
        "id": "B_FQ8sdkYkeg",
        "colab": {
          "base_uri": "https://localhost:8080/"
        },
        "outputId": "665fc1d6-a32a-47ed-f211-267eb387cdea"
      },
      "source": [
        "#Fine tune SVD grid\n",
        "\n",
        "epochs_fine_tunning = np.arange(gs.best_params['rmse']['n_epochs'] - 11,\n",
        "                                      gs.best_params['rmse']['n_epochs'] + 11)\n",
        "\n",
        "lr_fine_tunning = np.linspace(gs.best_params['rmse']['lr_all'] / 2,\n",
        "                              gs.best_params['rmse']['lr_all'] * 2,\n",
        "                              num=10)\n",
        "\n",
        "reg_fine_tunning = np.linspace(gs.best_params['rmse']['reg_all'] / 2,\n",
        "                              gs.best_params['rmse']['reg_all'] * 2,\n",
        "                              num=10)\n",
        "\n",
        "param_grid = {'n_epochs': epochs_fine_tunning,\n",
        "              'lr_all': lr_fine_tunning,\n",
        "              'reg_all': reg_fine_tunning}\n",
        "gsf = GridSearchCV(SVD, param_grid, measures=['rmse'], cv=10)\n",
        "\n",
        "gsf.fit(data)\n",
        "\n",
        "print(gsf.best_score['rmse'])\n",
        "print(gsf.best_params['rmse'])"
      ],
      "execution_count": 32,
      "outputs": [
        {
          "output_type": "stream",
          "text": [
            "0.823196093240566\n",
            "{'n_epochs': 17, 'lr_all': 0.0008333333333333333, 'reg_all': 0.1}\n"
          ],
          "name": "stdout"
        }
      ]
    },
    {
      "cell_type": "code",
      "metadata": {
        "id": "0LEUZ-olYQ9S",
        "colab": {
          "base_uri": "https://localhost:8080/"
        },
        "outputId": "340260d8-9f30-4bf0-d9fb-052a1b4bcbac"
      },
      "source": [
        "svd = SVD(**gsf.best_params['rmse'])\n",
        "svd.fit(trainset)\n",
        "pred = svd.test(testset)\n",
        "accuracy.rmse(pred)"
      ],
      "execution_count": 33,
      "outputs": [
        {
          "output_type": "stream",
          "text": [
            "RMSE: 0.8239\n"
          ],
          "name": "stdout"
        },
        {
          "output_type": "execute_result",
          "data": {
            "text/plain": [
              "0.8238523908566456"
            ]
          },
          "metadata": {
            "tags": []
          },
          "execution_count": 33
        }
      ]
    },
    {
      "cell_type": "code",
      "metadata": {
        "id": "vK8Ft71sHOwP",
        "colab": {
          "base_uri": "https://localhost:8080/"
        },
        "outputId": "c27b349e-e5fc-4d9b-f76f-b02b2f73ac54"
      },
      "source": [
        "# Train production SVD\n",
        "\n",
        "svd = SVD(**gsf.best_params['rmse'])\n",
        "svd.fit(data.build_full_trainset())"
      ],
      "execution_count": 34,
      "outputs": [
        {
          "output_type": "execute_result",
          "data": {
            "text/plain": [
              "<surprise.prediction_algorithms.matrix_factorization.SVD at 0x7fefd85f4f50>"
            ]
          },
          "metadata": {
            "tags": []
          },
          "execution_count": 34
        }
      ]
    },
    {
      "cell_type": "code",
      "metadata": {
        "id": "maftV5FdibJL",
        "colab": {
          "base_uri": "https://localhost:8080/"
        },
        "outputId": "6efc1f25-1264-429c-ecab-4f6e6c6ae8e6"
      },
      "source": [
        "iterated_users = []\n",
        "\n",
        "for user in range(5):\n",
        "    data = {}\n",
        "    iterated_users.append(user)\n",
        "    if user in iterated_users:\n",
        "        user = user + random.randint(0,1234567) \n",
        "\n",
        "    sample_user = df_ratings[df_ratings['userID'] <= 90].sample(n=1, random_state=user)\n",
        "    sample_user = sample_user.to_dict('r')[0]\n",
        "    sample_userid = sample_user['userID']\n",
        "    for item in range(4):\n",
        "        pred = svd.predict(uid=sample_userid, iid=item)\n",
        "\n",
        "        real = df_ratings[(df_ratings['userID'] == sample_userid) &\n",
        "                                       (df_ratings['itemID'] == item)].to_dict('r')\n",
        "        if real:\n",
        "            real = real[0]\n",
        "        else:\n",
        "            real = dict()\n",
        "            real['rating'] = 0\n",
        "        \n",
        "        est_real = {'estimado': pred.est,\n",
        "                    'real': float(real['rating'])}\n",
        "        data[item] = est_real\n",
        "        data[item]['estimado'] = round(data[item]['estimado'], 5)\n",
        "        data[item]['real'] = round(data[item]['real'], 5)\n",
        "\n",
        "    print('User:{} \\nEstimations:'.format(sample_user['userID']))\n",
        "    pprint.pprint(data, width=1)\n",
        "\n",
        "# Note que quando os resultados reais são iguais a zero é porque o usuário\n",
        "# nunca interagiu com esse item, ou seja, seria a recomendação do nosso modelo\n",
        "# para ele"
      ],
      "execution_count": 35,
      "outputs": [
        {
          "output_type": "stream",
          "text": [
            "User:41 \n",
            "Estimations:\n",
            "{0: {'estimado': 1.80788,\n",
            "     'real': 1.25},\n",
            " 1: {'estimado': 1.86329,\n",
            "     'real': 1.0},\n",
            " 2: {'estimado': 1.81021,\n",
            "     'real': 2.75},\n",
            " 3: {'estimado': 1.86483,\n",
            "     'real': 2.5}}\n",
            "User:33 \n",
            "Estimations:\n",
            "{0: {'estimado': 1.772,\n",
            "     'real': 1.83333},\n",
            " 1: {'estimado': 1.8294,\n",
            "     'real': 0.0},\n",
            " 2: {'estimado': 1.84556,\n",
            "     'real': 0.0},\n",
            " 3: {'estimado': 1.80364,\n",
            "     'real': 0.0}}\n",
            "User:82 \n",
            "Estimations:\n",
            "{0: {'estimado': 1.84886,\n",
            "     'real': 0.0},\n",
            " 1: {'estimado': 1.83376,\n",
            "     'real': 1.85714},\n",
            " 2: {'estimado': 1.82461,\n",
            "     'real': 0.0},\n",
            " 3: {'estimado': 1.84245,\n",
            "     'real': 2.28571}}\n",
            "User:15 \n",
            "Estimations:\n",
            "{0: {'estimado': 1.8474,\n",
            "     'real': 1.0},\n",
            " 1: {'estimado': 1.8341,\n",
            "     'real': 1.25},\n",
            " 2: {'estimado': 1.81285,\n",
            "     'real': 2.6},\n",
            " 3: {'estimado': 1.80081,\n",
            "     'real': 1.88889}}\n",
            "User:42 \n",
            "Estimations:\n",
            "{0: {'estimado': 1.82712,\n",
            "     'real': 1.5},\n",
            " 1: {'estimado': 1.82343,\n",
            "     'real': 0.0},\n",
            " 2: {'estimado': 1.84365,\n",
            "     'real': 2.5},\n",
            " 3: {'estimado': 1.79385,\n",
            "     'real': 1.25}}\n"
          ],
          "name": "stdout"
        }
      ]
    },
    {
      "cell_type": "markdown",
      "metadata": {
        "id": "80UlJBjEOyiY"
      },
      "source": [
        "## Resultados\n",
        "\n",
        "Analisando o nosso modelo de algoritimo de recomendação, tivemos um RMSE Score muito consistente entre os conjustos de teste e de treino. Isso indica que nosso modelo conseguiu generelizar bem com dados não vistos.\n",
        "\n",
        "Além disso, pode parecer que temos um RMSE muito alto de aproximadamente 0.823. Porém é um valor relevante para o nosso modelo, na documentação do scikit-surprise, mostra que de ratings de 1-5 valores abaixo de 0.9 são resultados consistentes. Porém a biblioteca não é uma implementação muito robusta, existem outros recursos que podemos utilizar como o tensorflow para desenvolver um modelo muito mais performatico."
      ]
    }
  ]
}